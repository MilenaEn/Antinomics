{
 "cells": [
  {
   "cell_type": "code",
   "execution_count": null,
   "metadata": {},
   "outputs": [],
   "source": [
    "%matplotlib qt\n",
    "import os\n",
    "from pathlib import Path\n",
    "import matplotlib.pyplot as plt\n",
    "from tqdm import tqdm\n",
    "from mne.io import read_raw_brainvision, read_raw_fif\n",
    "\n",
    "from scipy.signal import find_peaks\n",
    "import numpy as np\n",
    "from mne.channels import read_dig_captrak, make_standard_montage\n",
    "from mne.preprocessing import ICA\n",
    "from mne_icalabel import label_components\n",
    "import customtkinter as ctk\n",
    "from mne.coreg import Coregistration\n",
    "from mne import (open_report, events_from_annotations, Epochs, write_trans,\n",
    "                setup_source_space, make_bem_model, make_bem_solution, make_forward_solution, compute_covariance,\n",
    "                extract_label_time_course, read_labels_from_annot)\n",
    "from mne.minimum_norm import make_inverse_operator, apply_inverse\n",
    "from mne.datasets import fetch_fsaverage\n",
    "from scipy.signal import find_peaks\n",
    "import warnings\n",
    "from mne.preprocessing import ICA, EOGRegression, create_eog_epochs, create_ecg_epochs, compute_proj_ecg, compute_proj_eog, EOGRegression"
   ]
  },
  {
   "cell_type": "code",
   "execution_count": null,
   "metadata": {},
   "outputs": [],
   "source": [
    "%%latex\n",
    "##### for preprocessing()\n",
    "## ask philip where is PO7, PO8, O1 and O2 and adjust it here\n",
    "## put these cahnnels as misc and see what we can do with it\n",
    "## kernel crash when running ctk\n",
    "## ssp for ecg (pulse)\n",
    "## ssp for vertical eye\n",
    "## regression for horizontal eye\n",
    "## .load_data()\n",
    "## add teas\n",
    "## GSR, X, Y, Y drop\n",
    "## rename y-axis in pulse plot maybe *1e9 and time shows\n",
    "## mne.preprocessing.annotate_break\n",
    "## interpolate bads (mne.preprocessing.find_bad_channels_lof)\n",
    "\n",
    "\n",
    "\n",
    "##### for run_analysis()\n",
    "## in gpias dont do baselining\n",
    "## double check with repo codes\n",
    "## ask gpias triggers code\n",
    "## documenatiaion\n",
    "## "
   ]
  },
  {
   "cell_type": "code",
   "execution_count": null,
   "metadata": {},
   "outputs": [],
   "source": [
    "%matplotlib qt\n",
    "from eeg_preprocessing import preprocessing\n",
    "preprocessing(subject_id=\"zdfy\",\n",
    "                subjects_dir=\"/Users/payamsadeghishabestari/antinomics_clean_codes/subjects\",\n",
    "                paradigm=\"gpias\",\n",
    "                manual_data_scroll=True,\n",
    "                run_ica=False,\n",
    "                manual_ica_removal=False,\n",
    "                eog_correct=True,\n",
    "                pulse_correct=True,\n",
    "                resp_correct=False,\n",
    "                create_report=True,\n",
    "                saving_dir=None,\n",
    "                verbose=\"ERROR\")"
   ]
  },
  {
   "cell_type": "code",
   "execution_count": null,
   "metadata": {},
   "outputs": [],
   "source": [
    "%matplotlib qt\n",
    "from eeg_rs_processing import run_rs_analysis\n",
    "\n",
    "run_rs_analysis(\n",
    "        subject_id=\"zdfy\",\n",
    "        subjects_dir=\"/Users/payamsadeghishabestari/antinomics_clean_codes/subjects\",\n",
    "        visit=1,\n",
    "        event_ids=None,\n",
    "        source_analysis=True,\n",
    "        mri=False,\n",
    "        subjects_fs_dir=None,\n",
    "        manual_data_scroll=False,\n",
    "        create_report=True,\n",
    "        saving_dir=None,\n",
    "        verbose=\"ERROR\"\n",
    "        )\n"
   ]
  },
  {
   "cell_type": "code",
   "execution_count": 4,
   "metadata": {},
   "outputs": [
    {
     "name": "stderr",
     "output_type": "stream",
     "text": [
      "\n",
      "                                                  \n",
      "\u001b[A                                               \n",
      "\n",
      " 20%|\u001b[36m█████████                                    \u001b[0m\n",
      "\u001b[A\n",
      "\u001b[A"
     ]
    },
    {
     "name": "stdout",
     "output_type": "stream",
     "text": [
      "Loading preprocessed EEG data ...\n",
      "\n"
     ]
    },
    {
     "ename": "ValueError",
     "evalue": "setting an array element with a sequence. The requested array has an inhomogeneous shape after 1 dimensions. The detected shape was (3,) + inhomogeneous part.",
     "output_type": "error",
     "traceback": [
      "\u001b[0;31m---------------------------------------------------------------------------\u001b[0m",
      "\u001b[0;31mValueError\u001b[0m                                Traceback (most recent call last)",
      "Cell \u001b[0;32mIn[4], line 4\u001b[0m\n\u001b[1;32m      1\u001b[0m get_ipython()\u001b[38;5;241m.\u001b[39mrun_line_magic(\u001b[38;5;124m'\u001b[39m\u001b[38;5;124mmatplotlib\u001b[39m\u001b[38;5;124m'\u001b[39m, \u001b[38;5;124m'\u001b[39m\u001b[38;5;124mqt\u001b[39m\u001b[38;5;124m'\u001b[39m)\n\u001b[1;32m      2\u001b[0m \u001b[38;5;28;01mfrom\u001b[39;00m \u001b[38;5;21;01meeg_erp_processing\u001b[39;00m \u001b[38;5;28;01mimport\u001b[39;00m run_erp_analysis\n\u001b[0;32m----> 4\u001b[0m \u001b[43mrun_erp_analysis\u001b[49m\u001b[43m(\u001b[49m\n\u001b[1;32m      5\u001b[0m \u001b[43m        \u001b[49m\u001b[43msubject_id\u001b[49m\u001b[38;5;241;43m=\u001b[39;49m\u001b[38;5;124;43m\"\u001b[39;49m\u001b[38;5;124;43mzdfy\u001b[39;49m\u001b[38;5;124;43m\"\u001b[39;49m\u001b[43m,\u001b[49m\n\u001b[1;32m      6\u001b[0m \u001b[43m        \u001b[49m\u001b[43msubjects_dir\u001b[49m\u001b[38;5;241;43m=\u001b[39;49m\u001b[38;5;124;43m\"\u001b[39;49m\u001b[38;5;124;43m/Users/payamsadeghishabestari/antinomics_clean_codes/subjects\u001b[39;49m\u001b[38;5;124;43m\"\u001b[39;49m\u001b[43m,\u001b[49m\n\u001b[1;32m      7\u001b[0m \u001b[43m        \u001b[49m\u001b[43mparadigm\u001b[49m\u001b[38;5;241;43m=\u001b[39;49m\u001b[38;5;124;43m\"\u001b[39;49m\u001b[38;5;124;43mgpias\u001b[39;49m\u001b[38;5;124;43m\"\u001b[39;49m\u001b[43m,\u001b[49m\n\u001b[1;32m      8\u001b[0m \u001b[43m        \u001b[49m\u001b[43mevents\u001b[49m\u001b[38;5;241;43m=\u001b[39;49m\u001b[38;5;28;43;01mNone\u001b[39;49;00m\u001b[43m,\u001b[49m\n\u001b[1;32m      9\u001b[0m \u001b[43m        \u001b[49m\u001b[43msource_analysis\u001b[49m\u001b[38;5;241;43m=\u001b[39;49m\u001b[38;5;28;43;01mTrue\u001b[39;49;00m\u001b[43m,\u001b[49m\n\u001b[1;32m     10\u001b[0m \u001b[43m        \u001b[49m\u001b[43mmri\u001b[49m\u001b[38;5;241;43m=\u001b[39;49m\u001b[38;5;28;43;01mFalse\u001b[39;49;00m\u001b[43m,\u001b[49m\n\u001b[1;32m     11\u001b[0m \u001b[43m        \u001b[49m\u001b[43msubjects_fs_dir\u001b[49m\u001b[38;5;241;43m=\u001b[39;49m\u001b[38;5;28;43;01mNone\u001b[39;49;00m\u001b[43m,\u001b[49m\n\u001b[1;32m     12\u001b[0m \u001b[43m        \u001b[49m\u001b[43mmanual_data_scroll\u001b[49m\u001b[38;5;241;43m=\u001b[39;49m\u001b[38;5;28;43;01mFalse\u001b[39;49;00m\u001b[43m,\u001b[49m\n\u001b[1;32m     13\u001b[0m \u001b[43m        \u001b[49m\u001b[43mcreate_report\u001b[49m\u001b[38;5;241;43m=\u001b[39;49m\u001b[38;5;28;43;01mTrue\u001b[39;49;00m\u001b[43m,\u001b[49m\n\u001b[1;32m     14\u001b[0m \u001b[43m        \u001b[49m\u001b[43msaving_dir\u001b[49m\u001b[38;5;241;43m=\u001b[39;49m\u001b[38;5;28;43;01mNone\u001b[39;49;00m\u001b[43m,\u001b[49m\n\u001b[1;32m     15\u001b[0m \u001b[43m        \u001b[49m\u001b[43mverbose\u001b[49m\u001b[38;5;241;43m=\u001b[39;49m\u001b[38;5;124;43m\"\u001b[39;49m\u001b[38;5;124;43mERROR\u001b[39;49m\u001b[38;5;124;43m\"\u001b[39;49m\n\u001b[1;32m     16\u001b[0m \u001b[43m        \u001b[49m\u001b[43m)\u001b[49m\n",
      "File \u001b[0;32m~/antinomics_clean_codes/codes/codes/eeg_erp_processing.py:153\u001b[0m, in \u001b[0;36mrun_erp_analysis\u001b[0;34m(subject_id, subjects_dir, paradigm, source_analysis, events, mri, subjects_fs_dir, manual_data_scroll, create_report, saving_dir, verbose)\u001b[0m\n\u001b[1;32m    124\u001b[0m         events \u001b[38;5;241m=\u001b[39m events[events[:, \u001b[38;5;241m2\u001b[39m] \u001b[38;5;241m!=\u001b[39m event_ids[\u001b[38;5;124m\"\u001b[39m\u001b[38;5;124mNew Segment/\u001b[39m\u001b[38;5;124m\"\u001b[39m]]\n\u001b[1;32m    125\u001b[0m         event_ids\u001b[38;5;241m.\u001b[39mpop(\u001b[38;5;124m\"\u001b[39m\u001b[38;5;124mNew Segment/\u001b[39m\u001b[38;5;124m\"\u001b[39m)\n\u001b[1;32m    127\u001b[0m     \u001b[38;5;28;01mmatch\u001b[39;00m paradigm:\n\u001b[1;32m    128\u001b[0m         \u001b[38;5;28;01mcase\u001b[39;00m \u001b[38;5;124m\"\u001b[39m\u001b[38;5;124mgpias\u001b[39m\u001b[38;5;124m\"\u001b[39m:\n\u001b[1;32m    129\u001b[0m             shift \u001b[38;5;241m=\u001b[39m \u001b[38;5;241m0.012\u001b[39m \u001b[38;5;66;03m# 0.016\u001b[39;00m\n\u001b[1;32m    130\u001b[0m             stims, stim_ids \u001b[38;5;241m=\u001b[39m events, event_ids\n\u001b[1;32m    131\u001b[0m             stim_ids \u001b[38;5;241m=\u001b[39m {\n\u001b[1;32m    132\u001b[0m                         \u001b[38;5;124m'\u001b[39m\u001b[38;5;124mgappre\u001b[39m\u001b[38;5;124m'\u001b[39m: \u001b[38;5;241m1\u001b[39m,\n\u001b[1;32m    133\u001b[0m                         \u001b[38;5;124m'\u001b[39m\u001b[38;5;124mgapbbn\u001b[39m\u001b[38;5;124m'\u001b[39m: \u001b[38;5;241m2\u001b[39m,\n\u001b[1;32m    134\u001b[0m                         \u001b[38;5;124m'\u001b[39m\u001b[38;5;124mgap3\u001b[39m\u001b[38;5;124m'\u001b[39m: \u001b[38;5;241m3\u001b[39m,\n\u001b[1;32m    135\u001b[0m                         \u001b[38;5;124m'\u001b[39m\u001b[38;5;124mgap8\u001b[39m\u001b[38;5;124m'\u001b[39m: \u001b[38;5;241m4\u001b[39m,\n\u001b[1;32m    136\u001b[0m                         \u001b[38;5;124m'\u001b[39m\u001b[38;5;124mgappost\u001b[39m\u001b[38;5;124m'\u001b[39m: \u001b[38;5;241m5\u001b[39m,\n\u001b[1;32m    137\u001b[0m                         }\n\u001b[1;32m    138\u001b[0m             events \u001b[38;5;241m=\u001b[39m []\n\u001b[1;32m    139\u001b[0m             \u001b[38;5;28;01mfor\u001b[39;00m stim_idx, stim \u001b[38;5;129;01min\u001b[39;00m \u001b[38;5;28menumerate\u001b[39m(stims):\n\u001b[1;32m    140\u001b[0m                 \u001b[38;5;66;03m## split recording into blocks\u001b[39;00m\n\u001b[1;32m    141\u001b[0m                 start \u001b[38;5;241m=\u001b[39m stim[\u001b[38;5;241m0\u001b[39m]\n\u001b[1;32m    142\u001b[0m                 \u001b[38;5;28;01mif\u001b[39;00m stim_idx \u001b[38;5;241m==\u001b[39m \u001b[38;5;28mlen\u001b[39m(stims) \u001b[38;5;241m-\u001b[39m \u001b[38;5;241m1\u001b[39m:\n\u001b[1;32m    143\u001b[0m                     stop \u001b[38;5;241m=\u001b[39m \u001b[38;5;28;01mNone\u001b[39;00m\n\u001b[1;32m    144\u001b[0m                 \u001b[38;5;28;01melse\u001b[39;00m: \n\u001b[1;32m    145\u001b[0m                     stop \u001b[38;5;241m=\u001b[39m stims[stim_idx \u001b[38;5;241m+\u001b[39m \u001b[38;5;241m1\u001b[39m][\u001b[38;5;241m0\u001b[39m]\n\u001b[1;32m    146\u001b[0m                 stim_ch, times \u001b[38;5;241m=\u001b[39m raw\u001b[38;5;241m.\u001b[39mget_data(picks\u001b[38;5;241m=\u001b[39m\u001b[38;5;124m\"\u001b[39m\u001b[38;5;124mAudio\u001b[39m\u001b[38;5;124m\"\u001b[39m,\n\u001b[1;32m    147\u001b[0m                                                 start\u001b[38;5;241m=\u001b[39mstart,\n\u001b[1;32m    148\u001b[0m                                                 stop\u001b[38;5;241m=\u001b[39mstop,\n\u001b[1;32m    149\u001b[0m                                                 return_times\u001b[38;5;241m=\u001b[39m\u001b[38;5;28;01mTrue\u001b[39;00m)\n\u001b[1;32m    150\u001b[0m                 stim_ch \u001b[38;5;241m=\u001b[39m np\u001b[38;5;241m.\u001b[39msqueeze(stim_ch)\n\u001b[1;32m    151\u001b[0m                 stim_id \u001b[38;5;241m=\u001b[39m stim[\u001b[38;5;241m2\u001b[39m]\n\u001b[1;32m    152\u001b[0m                 stim_key \u001b[38;5;241m=\u001b[39m [key \u001b[38;5;28;01mfor\u001b[39;00m key, value \u001b[38;5;129;01min\u001b[39;00m stim_ids\u001b[38;5;241m.\u001b[39mitems() \u001b[38;5;28;01mif\u001b[39;00m value \u001b[38;5;241m==\u001b[39m stim_id][\u001b[38;5;241m0\u001b[39m]\n\u001b[0;32m--> 153\u001b[0m                 evs, event_ids \u001b[38;5;241m=\u001b[39m \u001b[43m_detect_gpias_events\u001b[49m\u001b[43m(\u001b[49m\u001b[43mstim_ch\u001b[49m\u001b[43m,\u001b[49m\u001b[43m \u001b[49m\u001b[43mtimes\u001b[49m\u001b[43m,\u001b[49m\u001b[43m \u001b[49m\u001b[43mstim_key\u001b[49m\u001b[43m)\u001b[49m\n\u001b[1;32m    154\u001b[0m                 events\u001b[38;5;241m.\u001b[39mappend(evs)\n\u001b[1;32m    155\u001b[0m             \n\u001b[1;32m    156\u001b[0m             events \u001b[38;5;241m=\u001b[39m np\u001b[38;5;241m.\u001b[39mconcatenate(events, axis\u001b[38;5;241m=\u001b[39m\u001b[38;5;241m0\u001b[39m)\n\u001b[1;32m    157\u001b[0m             events[:, \u001b[38;5;241m0\u001b[39m] \u001b[38;5;241m=\u001b[39m events[:, \u001b[38;5;241m0\u001b[39m] \u001b[38;5;241m-\u001b[39m shift \u001b[38;5;241m*\u001b[39m raw\u001b[38;5;241m.\u001b[39minfo[\u001b[38;5;124m\"\u001b[39m\u001b[38;5;124msfreq\u001b[39m\u001b[38;5;124m\"\u001b[39m]\n\u001b[1;32m    158\u001b[0m             baseline \u001b[38;5;241m=\u001b[39m \u001b[38;5;28;01mNone\u001b[39;00m\n\u001b[1;32m    159\u001b[0m         \n\u001b[1;32m    160\u001b[0m         \u001b[38;5;28;01mcase\u001b[39;00m \u001b[38;5;124m\"\u001b[39m\u001b[38;5;124momi\u001b[39m\u001b[38;5;124m\"\u001b[39m \u001b[38;5;241m|\u001b[39m \u001b[38;5;124m\"\u001b[39m\u001b[38;5;124mxxxxx\u001b[39m\u001b[38;5;124m\"\u001b[39m \u001b[38;5;241m|\u001b[39m \u001b[38;5;124m\"\u001b[39m\u001b[38;5;124mxxxxy\u001b[39m\u001b[38;5;124m\"\u001b[39m:\n\u001b[1;32m    161\u001b[0m             baseline \u001b[38;5;241m=\u001b[39m (\u001b[38;5;28;01mNone\u001b[39;00m, \u001b[38;5;241m0\u001b[39m)\n\u001b[1;32m    162\u001b[0m \n\u001b[1;32m    163\u001b[0m         \u001b[38;5;28;01mcase\u001b[39;00m \u001b[38;5;124m\"\u001b[39m\u001b[38;5;124mregularity\u001b[39m\u001b[38;5;124m\"\u001b[39m \u001b[38;5;241m|\u001b[39m \u001b[38;5;124m\"\u001b[39m\u001b[38;5;124mteas\u001b[39m\u001b[38;5;124m\"\u001b[39m:\n\u001b[1;32m    164\u001b[0m             \u001b[38;5;28;01mraise\u001b[39;00m \u001b[38;5;167;01mNotImplementedError\u001b[39;00m\n\u001b[1;32m    166\u001b[0m tqdm\u001b[38;5;241m.\u001b[39mwrite(\u001b[38;5;124m\"\u001b[39m\u001b[38;5;124mCreating epochs...\u001b[39m\u001b[38;5;130;01m\\n\u001b[39;00m\u001b[38;5;124m\"\u001b[39m)\n\u001b[1;32m    167\u001b[0m progress\u001b[38;5;241m.\u001b[39mupdate(\u001b[38;5;241m1\u001b[39m)\n",
      "File \u001b[0;32m~/antinomics_clean_codes/codes/codes/eeg_erp_processing.py:355\u001b[0m, in \u001b[0;36m_detect_gpias_events\u001b[0;34m(stim_ch, times, stim_key, plot_peaks)\u001b[0m\n\u001b[1;32m    318\u001b[0m events_dict \u001b[38;5;241m=\u001b[39m { \n\u001b[1;32m    319\u001b[0m                 \u001b[38;5;124m\"\u001b[39m\u001b[38;5;124mPO70_pre\u001b[39m\u001b[38;5;124m\"\u001b[39m: \u001b[38;5;241m11\u001b[39m,\n\u001b[1;32m    320\u001b[0m                 \u001b[38;5;124m\"\u001b[39m\u001b[38;5;124mPO75_pre\u001b[39m\u001b[38;5;124m\"\u001b[39m: \u001b[38;5;241m12\u001b[39m,\n\u001b[0;32m   (...)\u001b[0m\n\u001b[1;32m    337\u001b[0m                 \u001b[38;5;124m\"\u001b[39m\u001b[38;5;124mPO90_post\u001b[39m\u001b[38;5;124m\"\u001b[39m: \u001b[38;5;241m55\u001b[39m,\n\u001b[1;32m    338\u001b[0m                 }\n\u001b[1;32m    339\u001b[0m \u001b[38;5;28;01mmatch\u001b[39;00m stim_key:\n\u001b[1;32m    340\u001b[0m     \u001b[38;5;28;01mcase\u001b[39;00m \u001b[38;5;124m\"\u001b[39m\u001b[38;5;124mgappre\u001b[39m\u001b[38;5;124m\"\u001b[39m \u001b[38;5;241m|\u001b[39m \u001b[38;5;124m\"\u001b[39m\u001b[38;5;124mgappost\u001b[39m\u001b[38;5;124m\"\u001b[39m:\n\u001b[1;32m    341\u001b[0m         height_limits \u001b[38;5;241m=\u001b[39m {\n\u001b[0;32m   (...)\u001b[0m\n\u001b[1;32m    352\u001b[0m                         \u001b[38;5;124m\"\u001b[39m\u001b[38;5;124mGP\u001b[39m\u001b[38;5;124m\"\u001b[39m: [\u001b[38;5;241m1200\u001b[39m, \u001b[38;5;241m1700\u001b[39m],\n\u001b[1;32m    353\u001b[0m                         }   \n\u001b[0;32m--> 355\u001b[0m events \u001b[38;5;241m=\u001b[39m \u001b[43m_detect_peaks\u001b[49m\u001b[43m(\u001b[49m\u001b[43mpk_heights\u001b[49m\u001b[43m,\u001b[49m\u001b[43m \u001b[49m\u001b[43mpeak_idxs\u001b[49m\u001b[43m,\u001b[49m\u001b[43m \u001b[49m\u001b[43mstim_ch\u001b[49m\u001b[43m,\u001b[49m\u001b[43m \u001b[49m\u001b[43mtimes\u001b[49m\u001b[43m,\u001b[49m\u001b[43m \u001b[49m\u001b[43mheight_limits\u001b[49m\u001b[43m,\u001b[49m\u001b[43m \u001b[49m\u001b[43mevents_dict\u001b[49m\u001b[43m,\u001b[49m\u001b[43m \u001b[49m\u001b[43mstim_key\u001b[49m\u001b[43m,\u001b[49m\u001b[43m \u001b[49m\u001b[43mplot_peaks\u001b[49m\u001b[38;5;241;43m=\u001b[39;49m\u001b[43mplot_peaks\u001b[49m\u001b[43m)\u001b[49m\n\u001b[1;32m    356\u001b[0m \u001b[38;5;28;01mreturn\u001b[39;00m events, events_dict\n",
      "File \u001b[0;32m~/antinomics_clean_codes/codes/codes/eeg_erp_processing.py:388\u001b[0m, in \u001b[0;36m_detect_peaks\u001b[0;34m(pk_heights, peak_idxs, stim_ch, times, height_limits, events_dict, stim_key, plot_peaks)\u001b[0m\n\u001b[1;32m    384\u001b[0m     \u001b[38;5;28;01mif\u001b[39;00m \u001b[38;5;129;01mnot\u001b[39;00m \u001b[38;5;28mlen\u001b[39m(pk_idxs) \u001b[38;5;129;01min\u001b[39;00m [\u001b[38;5;241m25\u001b[39m, \u001b[38;5;241m100\u001b[39m]:\n\u001b[1;32m    385\u001b[0m         warnings\u001b[38;5;241m.\u001b[39mwarn(\u001b[38;5;124mf\u001b[39m\u001b[38;5;124m\"\u001b[39m\u001b[38;5;130;01m\\033\u001b[39;00m\u001b[38;5;124m[91mThe number of detected triggeres for \u001b[39m\u001b[38;5;132;01m{\u001b[39;00mkey\u001b[38;5;132;01m}\u001b[39;00m\u001b[38;5;124m in \u001b[39m\u001b[38;5;132;01m{\u001b[39;00mstim_key\u001b[38;5;132;01m}\u001b[39;00m\u001b[38;5;124m is \u001b[39m\u001b[38;5;124m\"\u001b[39m \\\n\u001b[1;32m    386\u001b[0m                         \u001b[38;5;124m\"\u001b[39m\u001b[38;5;124mnot as expected (25 or 100), its \u001b[39m\u001b[38;5;124m{\u001b[39m\u001b[38;5;124mlen(pk_idxs)}, try adjusting the threshold!\u001b[39m\u001b[38;5;124m\"\u001b[39m, \u001b[38;5;167;01mUserWarning\u001b[39;00m) \n\u001b[0;32m--> 388\u001b[0m \u001b[38;5;28;01mreturn\u001b[39;00m np\u001b[38;5;241m.\u001b[39mconcatenate(\u001b[43mnp\u001b[49m\u001b[38;5;241;43m.\u001b[39;49m\u001b[43marray\u001b[49m\u001b[43m(\u001b[49m\u001b[43mevents\u001b[49m\u001b[43m)\u001b[49m, axis\u001b[38;5;241m=\u001b[39m\u001b[38;5;241m0\u001b[39m)\n",
      "\u001b[0;31mValueError\u001b[0m: setting an array element with a sequence. The requested array has an inhomogeneous shape after 1 dimensions. The detected shape was (3,) + inhomogeneous part."
     ]
    }
   ],
   "source": [
    "%matplotlib qt\n",
    "from eeg_erp_processing import run_erp_analysis\n",
    "\n",
    "run_erp_analysis(\n",
    "        subject_id=\"zdfy\",\n",
    "        subjects_dir=\"/Users/payamsadeghishabestari/antinomics_clean_codes/subjects\",\n",
    "        paradigm=\"gpias\",\n",
    "        events=None,\n",
    "        source_analysis=True,\n",
    "        mri=False,\n",
    "        subjects_fs_dir=None,\n",
    "        manual_data_scroll=False,\n",
    "        create_report=True,\n",
    "        saving_dir=None,\n",
    "        verbose=\"ERROR\"\n",
    "        )"
   ]
  },
  {
   "cell_type": "code",
   "execution_count": 9,
   "metadata": {},
   "outputs": [],
   "source": [
    "import mne\n",
    "import numpy as np\n",
    "import matplotlib.pyplot as plt"
   ]
  },
  {
   "cell_type": "code",
   "execution_count": 79,
   "metadata": {},
   "outputs": [],
   "source": [
    "raw = mne.io.read_raw(\"/Users/payamsadeghishabestari/antinomics_clean_codes/subjects/zdfy/EEG/gpias/raw_prep.fif\", preload=True)\n",
    "events, event_ids = mne.events_from_annotations(raw)\n",
    "if \"New Segment/\" in event_ids: \n",
    "    events = events[events[:, 2] != event_ids[\"New Segment/\"]]\n",
    "    event_ids.pop(\"New Segment/\")"
   ]
  },
  {
   "cell_type": "code",
   "execution_count": 72,
   "metadata": {},
   "outputs": [
    {
     "data": {
      "text/plain": [
       "array([[  1228,      0,      2],\n",
       "       [108385,      0,      4],\n",
       "       [365875,      0,      5],\n",
       "       [623901,      0,      3],\n",
       "       [882334,      0,      6]])"
      ]
     },
     "execution_count": 72,
     "metadata": {},
     "output_type": "execute_result"
    }
   ],
   "source": [
    "events"
   ]
  },
  {
   "cell_type": "code",
   "execution_count": 51,
   "metadata": {},
   "outputs": [
    {
     "data": {
      "text/plain": [
       "<mne_qt_browser._pg_figure.MNEQtBrowser at 0x3471f5e10>"
      ]
     },
     "execution_count": 51,
     "metadata": {},
     "output_type": "execute_result"
    }
   ],
   "source": [
    "raw.plot()"
   ]
  },
  {
   "cell_type": "code",
   "execution_count": 7,
   "metadata": {},
   "outputs": [],
   "source": [
    "def _detect_gpias_events(\n",
    "                        stim_ch,\n",
    "                        times,\n",
    "                        stim_key,\n",
    "                        plot_peaks=True\n",
    "                        ):\n",
    "    \n",
    "    \n",
    "    peak_idxs, peaks_dict = find_peaks(stim_ch, height=[300, 3000], distance=100)\n",
    "    pk_heights = peaks_dict[\"peak_heights\"]\n",
    "    events = []\n",
    "    events_dict = { \n",
    "                    \"PO70_pre\": 11,\n",
    "                    \"PO75_pre\": 12,\n",
    "                    \"PO80_pre\": 13,\n",
    "                    \"PO85_pre\": 14,\n",
    "                    \"PO90_pre\": 15,               \n",
    "                    \"PO_bbn\": 21,\n",
    "                    \"GO_bbn\": 22,\n",
    "                    \"GP_bbn\": 23,\n",
    "                    \"PO_3\": 31,\n",
    "                    \"GO_3\": 32,\n",
    "                    \"GP_3\": 33,\n",
    "                    \"PO_8\": 41,\n",
    "                    \"GO_8\": 42,\n",
    "                    \"GP_8\": 43,\n",
    "                    \"PO70_post\": 51,\n",
    "                    \"PO75_post\": 52,\n",
    "                    \"PO80_post\": 53,\n",
    "                    \"PO85_post\": 54,\n",
    "                    \"PO90_post\": 55,\n",
    "                    }\n",
    "    match stim_key:\n",
    "        case \"gappre\" | \"gappost\":\n",
    "            height_limits = {\n",
    "                            \"PO70\": [300, 650],\n",
    "                            \"PO75\": [650, 1100],\n",
    "                            \"PO80\": [1100, 1500],\n",
    "                            \"PO85\": [1500, 1900],\n",
    "                            \"PO90\": [1900, 3000],\n",
    "                            }\n",
    "        case \"gapbbn\" | \"gap3\" | \"gap8\":\n",
    "            height_limits = {\n",
    "                            \"PO\": [1700, 3000],\n",
    "                            \"GO\": [300, 900],\n",
    "                            \"GP\": [1200, 1700],\n",
    "                            }   \n",
    "    \n",
    "    events = _detect_peaks(pk_heights, peak_idxs, stim_ch, times, height_limits, events_dict, stim_key, plot_peaks=plot_peaks)\n",
    "    return events, events_dict\n",
    "\n",
    "def _detect_peaks(pk_heights,\n",
    "                peak_idxs,\n",
    "                stim_ch,\n",
    "                times,\n",
    "                height_limits,\n",
    "                events_dict,\n",
    "                stim_key,\n",
    "                plot_peaks=True\n",
    "                ):\n",
    "    events = []\n",
    "    if plot_peaks:\n",
    "        fig, ax = plt.subplots(1, 1, figsize=(12, 6))\n",
    "        ax.plot(times, stim_ch)\n",
    "        ax.set_title(stim_key)\n",
    "        \n",
    "    for key, (lower, upper) in height_limits.items():\n",
    "        pk_idxs = np.where((pk_heights >= lower) & (pk_heights < upper))[0]\n",
    "        sub_events = np.zeros(shape=(len(pk_idxs), 3), dtype=int)\n",
    "        sub_events[:, 0] = times[peak_idxs[pk_idxs]] * 250\n",
    "        sub_events[:, 1] = 0\n",
    "        sub_events[:, 2] = events_dict[f\"{key[:4]}_{stim_key[3:]}\"]\n",
    "        events.append(sub_events) \n",
    "\n",
    "        if plot_peaks:\n",
    "            ax.scatter(times[peak_idxs[pk_idxs]], pk_heights[pk_idxs])\n",
    "\n",
    "        if not len(pk_idxs) in [25, 100]:\n",
    "            warnings.warn(f\"\\033[91mThe number of detected triggeres for {key} in {stim_key} is \" \\\n",
    "                            \"not as expected (25 or 100), its {len(pk_idxs)}, try adjusting the threshold!\", UserWarning) \n",
    "            \n",
    "    return np.concatenate(np.array(events), axis=0) "
   ]
  },
  {
   "cell_type": "code",
   "execution_count": 66,
   "metadata": {},
   "outputs": [
    {
     "data": {
      "text/plain": [
       "{'Stimulus/S  1': 2,\n",
       " 'Stimulus/S  2': 3,\n",
       " 'Stimulus/S  3': 4,\n",
       " 'Stimulus/S  4': 5,\n",
       " 'Stimulus/S  5': 6}"
      ]
     },
     "execution_count": 66,
     "metadata": {},
     "output_type": "execute_result"
    }
   ],
   "source": [
    "event_ids"
   ]
  },
  {
   "cell_type": "code",
   "execution_count": null,
   "metadata": {},
   "outputs": [
    {
     "name": "stdout",
     "output_type": "stream",
     "text": [
      "['gappre']\n",
      "['gap3']\n",
      "['gap8']\n",
      "['gapbbn']\n",
      "['gappost']\n"
     ]
    }
   ],
   "source": [
    "stims, stim_ids = events, event_ids\n",
    "stim_ids = {\n",
    "            'gappre': 1,\n",
    "            'gapbbn': 2,\n",
    "            'gap3': 3,\n",
    "            'gap8': 4,\n",
    "            'gappost': 5,\n",
    "            }\n",
    "events = []\n",
    "for stim_idx, stim in enumerate(stims):\n",
    "    \n",
    "    ## split recording into blocks\n",
    "    start = stim[0]\n",
    "    if stim_idx == len(stims) - 1:\n",
    "        stop = None\n",
    "    else: \n",
    "        stop = stims[stim_idx + 1][0]\n",
    "\n",
    "    stim_ch, times = raw.get_data(picks=\"Audio\",\n",
    "                                start=start,\n",
    "                                stop=stop,\n",
    "                                return_times=True)\n",
    "                                \n",
    "    stim_ch = np.squeeze(stim_ch)\n",
    "    stim_id = stim[2]\n",
    "    stim_key = [key for key, value in stim_ids.items() if value == stim_id - 1][0] # maybe later better write it\n",
    "    evs, event_ids = _detect_gpias_events(stim_ch, times, stim_key)"
   ]
  },
  {
   "cell_type": "code",
   "execution_count": null,
   "metadata": {},
   "outputs": [
    {
     "data": {
      "text/plain": [
       "5"
      ]
     },
     "execution_count": 78,
     "metadata": {},
     "output_type": "execute_result"
    }
   ],
   "source": []
  },
  {
   "cell_type": "code",
   "execution_count": 60,
   "metadata": {},
   "outputs": [
    {
     "data": {
      "text/plain": [
       "6"
      ]
     },
     "execution_count": 60,
     "metadata": {},
     "output_type": "execute_result"
    }
   ],
   "source": [
    "stim_id"
   ]
  },
  {
   "cell_type": "code",
   "execution_count": 22,
   "metadata": {},
   "outputs": [
    {
     "data": {
      "text/plain": [
       "array([[  1228,      0,      2],\n",
       "       [108385,      0,      4],\n",
       "       [365875,      0,      5],\n",
       "       [623901,      0,      3],\n",
       "       [882334,      0,      6]])"
      ]
     },
     "execution_count": 22,
     "metadata": {},
     "output_type": "execute_result"
    }
   ],
   "source": [
    "stims"
   ]
  },
  {
   "cell_type": "markdown",
   "metadata": {},
   "source": [
    "Eyetracking"
   ]
  },
  {
   "cell_type": "code",
   "execution_count": null,
   "metadata": {},
   "outputs": [],
   "source": [
    "import mne\n",
    "raw = mne.io.read_raw_brainvision(\"/Users/payamsadeghishabestari/antinomics_clean_codes/subjects/zdfy/EEG/xxxxx/zdfy_xxxxx.vhdr\")\n",
    "mne.read_events(raw)"
   ]
  },
  {
   "cell_type": "code",
   "execution_count": null,
   "metadata": {},
   "outputs": [],
   "source": [
    "raw.annotations"
   ]
  },
  {
   "cell_type": "code",
   "execution_count": null,
   "metadata": {},
   "outputs": [],
   "source": [
    "from mne.io import read_raw_brainvision, read_raw_eyelink\n",
    "from mne import events_from_annotations\n",
    "from mne.preprocessing import realign_raw\n",
    "\n",
    "\n",
    "## load\n",
    "fname_eeg = \"/Users/payamsadeghishabestari/Downloads/alertness_01_H036.vhdr\"\n",
    "fname_et = \"/Users/payamsadeghishabestari/Downloads/local_al1H036.asc\"\n",
    "\n",
    "raw_eeg = read_raw_brainvision(fname_eeg, preload=True)\n",
    "raw_eye = read_raw_eyelink(fname=fname_et, create_annotations=True) \n",
    "events_eeg, event_ids_eeg = events_from_annotations(raw_eeg)\n",
    "events_eye, event_ids_eye = events_from_annotations(raw_eye)\n",
    "\n",
    "## for now\n",
    "stim_id_eeg_1, stim_id_eeg_2 = 8, 9\n",
    "stim_id_eye_1, stim_id_eye_2 = 4, 5\n",
    "\n",
    "s_raw = events_eeg[(events_eeg[:,2] == stim_id_eeg_1) | (events_eeg[:,2] == stim_id_eeg_2)][:, 0]\n",
    "s_other = events_eye[(events_eye[:,2] == stim_id_eye_1) | (events_eye[:,2] == stim_id_eye_2)][:, 0]\n",
    "\n",
    "## realigning\n",
    "realign_raw(raw=raw_eeg,\n",
    "            other=raw_eye,\n",
    "            t_raw=s_raw / raw_eeg.info[\"sfreq\"] - raw_eeg.first_time,\n",
    "            t_other=s_other / raw_eye.info[\"sfreq\"] - raw_eye.first_time,\n",
    "            verbose=None)\n",
    "\n",
    "raw_eye.add_channels([raw_eeg], force_update_info=True)\n",
    "events, event_dict = events_from_annotations(raw_eye)\n",
    "del raw_eeg  "
   ]
  },
  {
   "cell_type": "code",
   "execution_count": null,
   "metadata": {},
   "outputs": [],
   "source": [
    "fname_eeg = \"/Users/payamsadeghishabestari/Downloads/alertness_01_H036.vhdr\"\n",
    "fname_et = \"/Users/payamsadeghishabestari/Downloads/local_al1H036.asc\"\n",
    "\n",
    "raw_eeg = read_raw_brainvision(fname_eeg, preload=True)\n",
    "raw_eye = read_raw_eyelink(fname=fname_et, create_annotations=True) "
   ]
  },
  {
   "cell_type": "code",
   "execution_count": null,
   "metadata": {},
   "outputs": [],
   "source": []
  },
  {
   "cell_type": "code",
   "execution_count": null,
   "metadata": {},
   "outputs": [],
   "source": [
    "raw_eye.plot()"
   ]
  },
  {
   "cell_type": "code",
   "execution_count": null,
   "metadata": {},
   "outputs": [],
   "source": []
  },
  {
   "cell_type": "code",
   "execution_count": null,
   "metadata": {},
   "outputs": [],
   "source": [
    "raw_eye.plot()"
   ]
  }
 ],
 "metadata": {
  "kernelspec": {
   "display_name": "Python 3",
   "language": "python",
   "name": "python3"
  },
  "language_info": {
   "codemirror_mode": {
    "name": "ipython",
    "version": 3
   },
   "file_extension": ".py",
   "mimetype": "text/x-python",
   "name": "python",
   "nbconvert_exporter": "python",
   "pygments_lexer": "ipython3",
   "version": "3.10.9"
  }
 },
 "nbformat": 4,
 "nbformat_minor": 2
}
