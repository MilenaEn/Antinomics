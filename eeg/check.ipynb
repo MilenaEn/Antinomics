{
 "cells": [
  {
   "cell_type": "code",
   "execution_count": 2,
   "metadata": {},
   "outputs": [
    {
     "name": "stderr",
     "output_type": "stream",
     "text": [
      "/Users/payamsadeghishabestari/virtual_envs/.venv/lib/python3.10/site-packages/pandas/core/arrays/masked.py:60: UserWarning: Pandas requires version '1.3.6' or newer of 'bottleneck' (version '1.3.5' currently installed).\n",
      "  from pandas.core import (\n"
     ]
    }
   ],
   "source": [
    "%matplotlib qt\n",
    "import mne\n",
    "import matplotlib.pyplot as plt\n",
    "import pandas as pd\n",
    "from mne_icalabel.gui import label_ica_components"
   ]
  },
  {
   "cell_type": "code",
   "execution_count": null,
   "metadata": {},
   "outputs": [],
   "source": [
    "%matplotlib qt\n",
    "from eeg_preprocessing import preprocessing\n",
    "preprocessing(subject_id=\"zdfy\",\n",
    "                subjects_dir=\"/Users/payamsadeghishabestari/antinomics_clean_codes/subjects\",\n",
    "                paradigm=\"rest_v1\",\n",
    "                site=\"Zuerich\",\n",
    "                psd_check=True,\n",
    "                manual_data_scroll=True,\n",
    "                run_ica=False,\n",
    "                manual_ica_removal=False,\n",
    "                eog_correct=True,\n",
    "                pulse_correct=True,\n",
    "                resp_correct=False,\n",
    "                create_report=True,\n",
    "                saving_dir=None,\n",
    "                verbose=\"ERROR\")"
   ]
  },
  {
   "cell_type": "code",
   "execution_count": null,
   "metadata": {},
   "outputs": [],
   "source": [
    "import mne\n",
    "report = mne.open_report(\"/Users/payamsadeghishabestari/antinomics_clean_codes/subjects/zdfy/EEG/reports/rest_v1.h5\")\n",
    "report.save(\"/Users/payamsadeghishabestari/Desktop/rest.html\", overwrite=True)"
   ]
  },
  {
   "cell_type": "code",
   "execution_count": null,
   "metadata": {},
   "outputs": [],
   "source": [
    "%matplotlib qt\n",
    "from eeg_processing import run_rs_analysis\n",
    "run_rs_analysis(\n",
    "        subject_id=\"zdfy\",\n",
    "        subjects_dir=\"/Users/payamsadeghishabestari/antinomics_clean_codes/subjects\",\n",
    "        visit=1,\n",
    "        event_ids=None,\n",
    "        source_analysis=True,\n",
    "        mri=False,\n",
    "        subjects_fs_dir=None,\n",
    "        manual_data_scroll=True,\n",
    "        automatic_epoch_rejection=False,\n",
    "        create_report=True,\n",
    "        saving_dir=None,\n",
    "        verbose=\"ERROR\"\n",
    "        )"
   ]
  },
  {
   "cell_type": "code",
   "execution_count": null,
   "metadata": {},
   "outputs": [],
   "source": [
    "%matplotlib qt\n",
    "from eeg_processing import run_erp_analysis\n",
    "run_erp_analysis(\n",
    "        subject_id=\"zdfy\",\n",
    "        subjects_dir=\"/Users/payamsadeghishabestari/antinomics_clean_codes/subjects\",\n",
    "        paradigm=\"gpias\",\n",
    "        events=None,\n",
    "        source_analysis=True,\n",
    "        mri=False,\n",
    "        subjects_fs_dir=None,\n",
    "        manual_data_scroll=True,\n",
    "        automatic_epoch_rejection=False,\n",
    "        create_report=True,\n",
    "        saving_dir=None,\n",
    "        verbose=\"ERROR\"\n",
    "        )"
   ]
  },
  {
   "cell_type": "code",
   "execution_count": 1,
   "metadata": {},
   "outputs": [
    {
     "name": "stderr",
     "output_type": "stream",
     "text": [
      " 20%|\u001b[36m█████████                                    \u001b[0m"
     ]
    },
    {
     "name": "stdout",
     "output_type": "stream",
     "text": [
      "Loading raw EEG data ...\n",
      "\n"
     ]
    },
    {
     "name": "stderr",
     "output_type": "stream",
     "text": [
      " 40%|\u001b[36m██████████████████                           \u001b[0m"
     ]
    },
    {
     "name": "stdout",
     "output_type": "stream",
     "text": [
      "Resampling, filtering and re-referencing ...\n",
      "\n"
     ]
    },
    {
     "name": "stderr",
     "output_type": "stream",
     "text": [
      " 60%|\u001b[36m███████████████████████████                  \u001b[0m"
     ]
    },
    {
     "name": "stdout",
     "output_type": "stream",
     "text": [
      "Running ICA ...\n",
      "\n"
     ]
    },
    {
     "ename": "UnboundLocalError",
     "evalue": "local variable 'eog_indices' referenced before assignment",
     "output_type": "error",
     "traceback": [
      "\u001b[0;31m---------------------------------------------------------------------------\u001b[0m",
      "\u001b[0;31mUnboundLocalError\u001b[0m                         Traceback (most recent call last)",
      "Cell \u001b[0;32mIn[1], line 3\u001b[0m\n\u001b[1;32m      1\u001b[0m get_ipython()\u001b[38;5;241m.\u001b[39mrun_line_magic(\u001b[38;5;124m'\u001b[39m\u001b[38;5;124mmatplotlib\u001b[39m\u001b[38;5;124m'\u001b[39m, \u001b[38;5;124m'\u001b[39m\u001b[38;5;124mqt\u001b[39m\u001b[38;5;124m'\u001b[39m)\n\u001b[1;32m      2\u001b[0m \u001b[38;5;28;01mfrom\u001b[39;00m \u001b[38;5;21;01meeg_preprocessing\u001b[39;00m \u001b[38;5;28;01mimport\u001b[39;00m preprocessing\n\u001b[0;32m----> 3\u001b[0m \u001b[43mpreprocessing\u001b[49m\u001b[43m(\u001b[49m\u001b[43msubject_id\u001b[49m\u001b[38;5;241;43m=\u001b[39;49m\u001b[38;5;124;43m\"\u001b[39;49m\u001b[38;5;124;43m501\u001b[39;49m\u001b[38;5;124;43m\"\u001b[39;49m\u001b[43m,\u001b[49m\n\u001b[1;32m      4\u001b[0m \u001b[43m                \u001b[49m\u001b[43msubjects_dir\u001b[49m\u001b[38;5;241;43m=\u001b[39;49m\u001b[38;5;124;43m\"\u001b[39;49m\u001b[38;5;124;43m/Users/payamsadeghishabestari/antinomics_clean_codes/subjects\u001b[39;49m\u001b[38;5;124;43m\"\u001b[39;49m\u001b[43m,\u001b[49m\n\u001b[1;32m      5\u001b[0m \u001b[43m                \u001b[49m\u001b[43mparadigm\u001b[49m\u001b[38;5;241;43m=\u001b[39;49m\u001b[38;5;124;43m\"\u001b[39;49m\u001b[38;5;124;43mrest_v1\u001b[39;49m\u001b[38;5;124;43m\"\u001b[39;49m\u001b[43m,\u001b[49m\n\u001b[1;32m      6\u001b[0m \u001b[43m                \u001b[49m\u001b[43msite\u001b[49m\u001b[38;5;241;43m=\u001b[39;49m\u001b[38;5;124;43m\"\u001b[39;49m\u001b[38;5;124;43mRegensburg\u001b[39;49m\u001b[38;5;124;43m\"\u001b[39;49m\u001b[43m,\u001b[49m\n\u001b[1;32m      7\u001b[0m \u001b[43m                \u001b[49m\u001b[43mmanual_data_scroll\u001b[49m\u001b[38;5;241;43m=\u001b[39;49m\u001b[38;5;28;43;01mTrue\u001b[39;49;00m\u001b[43m,\u001b[49m\n\u001b[1;32m      8\u001b[0m \u001b[43m                \u001b[49m\u001b[43mrun_ica\u001b[49m\u001b[38;5;241;43m=\u001b[39;49m\u001b[38;5;28;43;01mTrue\u001b[39;49;00m\u001b[43m,\u001b[49m\n\u001b[1;32m      9\u001b[0m \u001b[43m                \u001b[49m\u001b[43mmanual_ica_removal\u001b[49m\u001b[38;5;241;43m=\u001b[39;49m\u001b[38;5;28;43;01mTrue\u001b[39;49;00m\u001b[43m,\u001b[49m\n\u001b[1;32m     10\u001b[0m \u001b[43m                \u001b[49m\u001b[43meog_correct\u001b[49m\u001b[38;5;241;43m=\u001b[39;49m\u001b[38;5;28;43;01mFalse\u001b[39;49;00m\u001b[43m,\u001b[49m\n\u001b[1;32m     11\u001b[0m \u001b[43m                \u001b[49m\u001b[43mpulse_correct\u001b[49m\u001b[38;5;241;43m=\u001b[39;49m\u001b[38;5;28;43;01mFalse\u001b[39;49;00m\u001b[43m,\u001b[49m\n\u001b[1;32m     12\u001b[0m \u001b[43m                \u001b[49m\u001b[43mresp_correct\u001b[49m\u001b[38;5;241;43m=\u001b[39;49m\u001b[38;5;28;43;01mFalse\u001b[39;49;00m\u001b[43m,\u001b[49m\n\u001b[1;32m     13\u001b[0m \u001b[43m                \u001b[49m\u001b[43mcreate_report\u001b[49m\u001b[38;5;241;43m=\u001b[39;49m\u001b[38;5;28;43;01mTrue\u001b[39;49;00m\u001b[43m,\u001b[49m\n\u001b[1;32m     14\u001b[0m \u001b[43m                \u001b[49m\u001b[43msaving_dir\u001b[49m\u001b[38;5;241;43m=\u001b[39;49m\u001b[38;5;28;43;01mNone\u001b[39;49;00m\u001b[43m,\u001b[49m\n\u001b[1;32m     15\u001b[0m \u001b[43m                \u001b[49m\u001b[43mverbose\u001b[49m\u001b[38;5;241;43m=\u001b[39;49m\u001b[38;5;124;43m\"\u001b[39;49m\u001b[38;5;124;43mERROR\u001b[39;49m\u001b[38;5;124;43m\"\u001b[39;49m\u001b[43m)\u001b[49m\n",
      "File \u001b[0;32m~/antinomics_clean_codes/codes/codes/eeg/eeg_preprocessing.py:265\u001b[0m, in \u001b[0;36mpreprocessing\u001b[0;34m(subject_id, subjects_dir, site, paradigm, psd_check, manual_data_scroll, run_ica, manual_ica_removal, eog_correct, pulse_correct, resp_correct, create_report, saving_dir, verbose)\u001b[0m\n\u001b[1;32m    261\u001b[0m     ic_probs \u001b[38;5;241m=\u001b[39m ic_dict[\u001b[38;5;124m\"\u001b[39m\u001b[38;5;124my_pred_proba\u001b[39m\u001b[38;5;124m\"\u001b[39m]\n\u001b[1;32m    262\u001b[0m     eog_indices \u001b[38;5;241m=\u001b[39m [idx \u001b[38;5;28;01mfor\u001b[39;00m idx, label \u001b[38;5;129;01min\u001b[39;00m \u001b[38;5;28menumerate\u001b[39m(ic_labels) \\\n\u001b[1;32m    263\u001b[0m                     \u001b[38;5;28;01mif\u001b[39;00m label \u001b[38;5;241m==\u001b[39m \u001b[38;5;124m\"\u001b[39m\u001b[38;5;124meye blink\u001b[39m\u001b[38;5;124m\"\u001b[39m \u001b[38;5;129;01mand\u001b[39;00m ic_probs[idx] \u001b[38;5;241m>\u001b[39m \u001b[38;5;241m0.70\u001b[39m]\n\u001b[0;32m--> 265\u001b[0m \u001b[38;5;28;01mif\u001b[39;00m \u001b[38;5;28mlen\u001b[39m(\u001b[43meog_indices\u001b[49m) \u001b[38;5;241m>\u001b[39m \u001b[38;5;241m0\u001b[39m:\n\u001b[1;32m    266\u001b[0m     eog_components \u001b[38;5;241m=\u001b[39m ica\u001b[38;5;241m.\u001b[39mplot_properties(raw,\n\u001b[1;32m    267\u001b[0m                                         picks\u001b[38;5;241m=\u001b[39meog_indices,\n\u001b[1;32m    268\u001b[0m                                         show\u001b[38;5;241m=\u001b[39m\u001b[38;5;28;01mFalse\u001b[39;00m,\n\u001b[1;32m    269\u001b[0m                                         )\n\u001b[1;32m    270\u001b[0m     eog_indices_fil \u001b[38;5;241m=\u001b[39m [x \u001b[38;5;28;01mfor\u001b[39;00m x \u001b[38;5;129;01min\u001b[39;00m eog_indices \u001b[38;5;28;01mif\u001b[39;00m x \u001b[38;5;241m<\u001b[39m\u001b[38;5;241m=\u001b[39m \u001b[38;5;241m10\u001b[39m]\n",
      "\u001b[0;31mUnboundLocalError\u001b[0m: local variable 'eog_indices' referenced before assignment"
     ]
    }
   ],
   "source": [
    "%matplotlib qt\n",
    "from eeg_preprocessing import preprocessing\n",
    "preprocessing(subject_id=\"501\",\n",
    "                subjects_dir=\"/Users/payamsadeghishabestari/antinomics_clean_codes/subjects\",\n",
    "                paradigm=\"rest_v1\",\n",
    "                site=\"Regensburg\",\n",
    "                manual_data_scroll=True,\n",
    "                run_ica=True,\n",
    "                manual_ica_removal=True,\n",
    "                eog_correct=False,\n",
    "                pulse_correct=False,\n",
    "                resp_correct=False,\n",
    "                create_report=True,\n",
    "                saving_dir=None,\n",
    "                verbose=\"ERROR\")"
   ]
  },
  {
   "cell_type": "code",
   "execution_count": null,
   "metadata": {},
   "outputs": [],
   "source": [
    "raw = mne.io.read_raw_brainvision(\"/Users/payamsadeghishabestari/antinomics_clean_codes/subjects/501/EEG/rest_v1/501_rest_v1.vhdr\", preload=True)\n",
    "raw.resample(250).filter(1, 40)\n",
    "ica = mne.preprocessing.ICA(n_components=0.95, max_iter=800, method='infomax', fit_params=dict(extended=True))\n",
    "ica.fit(raw)\n",
    "gui = label_ica_components(raw, ica, block=True)"
   ]
  },
  {
   "cell_type": "code",
   "execution_count": null,
   "metadata": {},
   "outputs": [],
   "source": [
    "%debug"
   ]
  },
  {
   "cell_type": "code",
   "execution_count": null,
   "metadata": {},
   "outputs": [],
   "source": [
    "from eeg_feature_extraction import extract_eeg_features\n",
    "extract_eeg_features(\n",
    "                    subject_id=\"zdfy\",\n",
    "                    subjects_dir=None,\n",
    "                    features=[\"pow_freq_bands\", \"spect_entropy\"],\n",
    "                    paradigm=\"rest_v1\",\n",
    "                    atlas=\"aparc\",\n",
    "                    mri=False,\n",
    "                    saving_dir=None,\n",
    "                    verbose=\"ERROR\"\n",
    "                    )"
   ]
  },
  {
   "cell_type": "markdown",
   "metadata": {},
   "source": [
    "Eyetracking"
   ]
  },
  {
   "cell_type": "code",
   "execution_count": null,
   "metadata": {},
   "outputs": [],
   "source": [
    "import mne\n",
    "raw = mne.io.read_raw_brainvision(\"/Users/payamsadeghishabestari/antinomics_clean_codes/subjects/zdfy/EEG/xxxxx/zdfy_xxxxx.vhdr\")\n",
    "mne.read_events(raw)"
   ]
  },
  {
   "cell_type": "code",
   "execution_count": null,
   "metadata": {},
   "outputs": [],
   "source": [
    "raw.annotations"
   ]
  },
  {
   "cell_type": "code",
   "execution_count": null,
   "metadata": {},
   "outputs": [],
   "source": [
    "raw_eye = read_raw_eyelink(fname=fname_et, create_annotations=True) \n",
    "raw_eye.plot()"
   ]
  },
  {
   "cell_type": "code",
   "execution_count": null,
   "metadata": {},
   "outputs": [],
   "source": [
    "from mne.io import read_raw_brainvision, read_raw_eyelink\n",
    "from mne import events_from_annotations\n",
    "from mne.preprocessing import realign_raw\n",
    "\n",
    "\n",
    "## load\n",
    "fname_eeg = \"/Users/payamsadeghishabestari/Downloads/alertness_01_H036.vhdr\"\n",
    "fname_et = \"/Users/payamsadeghishabestari/Downloads/local_al1H036.asc\"\n",
    "\n",
    "raw_eeg = read_raw_brainvision(fname_eeg, preload=True)\n",
    "raw_eye = read_raw_eyelink(fname=fname_et, create_annotations=True) \n",
    "events_eeg, event_ids_eeg = events_from_annotations(raw_eeg)\n",
    "events_eye, event_ids_eye = events_from_annotations(raw_eye)\n",
    "\n",
    "## for now\n",
    "stim_id_eeg_1, stim_id_eeg_2 = 8, 9\n",
    "stim_id_eye_1, stim_id_eye_2 = 4, 5\n",
    "\n",
    "s_raw = events_eeg[(events_eeg[:,2] == stim_id_eeg_1) | (events_eeg[:,2] == stim_id_eeg_2)][:, 0]\n",
    "s_other = events_eye[(events_eye[:,2] == stim_id_eye_1) | (events_eye[:,2] == stim_id_eye_2)][:, 0]\n",
    "\n",
    "## realigning\n",
    "realign_raw(raw=raw_eeg,\n",
    "            other=raw_eye,\n",
    "            t_raw=s_raw / raw_eeg.info[\"sfreq\"] - raw_eeg.first_time,\n",
    "            t_other=s_other / raw_eye.info[\"sfreq\"] - raw_eye.first_time,\n",
    "            verbose=None)\n",
    "\n",
    "raw_eye.add_channels([raw_eeg], force_update_info=True)\n",
    "events, event_dict = events_from_annotations(raw_eye)\n",
    "del raw_eeg  "
   ]
  },
  {
   "cell_type": "code",
   "execution_count": null,
   "metadata": {},
   "outputs": [],
   "source": [
    "raw_eye.plot()"
   ]
  },
  {
   "cell_type": "markdown",
   "metadata": {},
   "source": [
    "Lets see what is regularity"
   ]
  },
  {
   "cell_type": "code",
   "execution_count": null,
   "metadata": {},
   "outputs": [],
   "source": [
    "import mne"
   ]
  },
  {
   "cell_type": "code",
   "execution_count": null,
   "metadata": {},
   "outputs": [],
   "source": [
    "fname = \"/Users/payamsadeghishabestari/antinomics_clean_codes/subjects/dvob/EEG/regularity/dvob_regularity.vhdr\"\n",
    "raw = mne.io.read_raw_brainvision(fname, preload=True)\n",
    "raw.resample(250)"
   ]
  },
  {
   "cell_type": "code",
   "execution_count": null,
   "metadata": {},
   "outputs": [],
   "source": [
    "events, events_dict = mne.events_from_annotations(raw)"
   ]
  },
  {
   "cell_type": "code",
   "execution_count": null,
   "metadata": {},
   "outputs": [],
   "source": [
    "import mne\n",
    "epochs_fnames = [\"/Users/payamsadeghishabestari/antinomics_clean_codes/subjects/zdfy/EEG/rest_v1/epochs-eo-epo.fif\",\n",
    "                \"/Users/payamsadeghishabestari/antinomics_clean_codes/subjects/zdfy/EEG/rest_v1/epochs-ec-epo.fif\"]\n",
    "\n",
    "epochs, eye_labels = [], []\n",
    "for ep_fname, title in zip(epochs_fnames, [\"open\", \"close\"]):\n",
    "    eps = mne.read_epochs(ep_fname, preload=True)\n",
    "    eps.drop_bad()\n",
    "    epochs.append(eps)\n",
    "    eye_labels += len(eps) * [title]"
   ]
  },
  {
   "cell_type": "code",
   "execution_count": null,
   "metadata": {},
   "outputs": [],
   "source": [
    "epochs = mne.concatenate_epochs(epochs)"
   ]
  },
  {
   "cell_type": "code",
   "execution_count": null,
   "metadata": {},
   "outputs": [],
   "source": [
    "import numpy as np\n",
    "import mne_features"
   ]
  },
  {
   "cell_type": "code",
   "execution_count": null,
   "metadata": {},
   "outputs": [],
   "source": [
    "def compute_sensor_band_power(epochs):\n",
    "    \"\"\"\n",
    "    \"\"\"\n",
    "    freq_bands = {\n",
    "                    \"delta\": (0.5, 4),\n",
    "                    \"theta\": (4, 8),\n",
    "                    \"alpha\": (8, 13),\n",
    "                    \"beta\": (13, 30),\n",
    "                    \"lower_gamma\": (30, 45),\n",
    "                    \"upper_gamma\": (45, 80)\n",
    "                    }\n",
    "    \n",
    "    psds, freqs = epochs.compute_psd(method=\"multitaper\",\n",
    "                                    picks=\"eeg\",\n",
    "                                    fmin=freq_bands[\"delta\"][0],\n",
    "                                    fmax=freq_bands[\"upper_gamma\"][1],\n",
    "                                    ).get_data(return_freqs=True)\n",
    "    psds /= np.sum(psds, axis=-1, keepdims=True)  # normalize the PSDs\n",
    "    ep_psds = []\n",
    "    for fmin, fmax in freq_bands.values():\n",
    "        psds_band = psds[:, :, (freqs >= fmin) & (freqs < fmax)].mean(axis=-1)\n",
    "        ep_psds.append(psds_band)\n",
    "    \n",
    "\n",
    "    return np.array(ep_psds).transpose(1, 2, 0)"
   ]
  },
  {
   "cell_type": "code",
   "execution_count": null,
   "metadata": {},
   "outputs": [],
   "source": [
    "freq_bands = {\n",
    "                \"delta\": (0.5, 4),\n",
    "                \"theta\": (4, 8),\n",
    "                \"alpha\": (8, 13),\n",
    "                \"beta\": (13, 30),\n",
    "                \"lower_gamma\": (30, 45),\n",
    "                \"upper_gamma\": (45, 80)\n",
    "                }\n",
    "\n",
    "\n",
    "\n",
    "epochs.pick(\"eeg\")\n",
    "funcs_params = {\n",
    "                    \"pow_freq_bands__freq_bands\": freq_bands,\n",
    "                    \"pow_freq_bands__psd_method\": \"multitaper\",\n",
    "                    \"pow_freq_bands__normalize\": True\n",
    "                    } \n",
    "\n",
    "powers = mne_features.feature_extraction.extract_features(epochs.get_data(),\n",
    "                                                epochs.info[\"sfreq\"],\n",
    "                                                selected_funcs=[\"pow_freq_bands\"],\n",
    "                                                funcs_params=funcs_params,\n",
    "                                                ch_names=epochs.info[\"ch_names\"]\n",
    "                                                )"
   ]
  },
  {
   "cell_type": "code",
   "execution_count": null,
   "metadata": {},
   "outputs": [],
   "source": [
    "n_chs = len(epochs.info[\"ch_names\"])\n",
    "n_freq_bands = len(freq_bands.keys())\n",
    "powers_reshaped = powers.reshape(len(epochs), n_chs, n_freq_bands)"
   ]
  },
  {
   "cell_type": "code",
   "execution_count": null,
   "metadata": {},
   "outputs": [],
   "source": [
    "columns = [f\"ch_{j}_freq_{k}\" for j in epochs.info[\"ch_names\"] for k in freq_bands]"
   ]
  },
  {
   "cell_type": "code",
   "execution_count": null,
   "metadata": {},
   "outputs": [],
   "source": [
    "df = pd.DataFrame(powers_reshaped, columns=columns)"
   ]
  },
  {
   "cell_type": "code",
   "execution_count": null,
   "metadata": {},
   "outputs": [],
   "source": [
    "hurst = mne_features.feature_extraction.extract_features(epochs.get_data(),\n",
    "                                                epochs.info[\"sfreq\"],\n",
    "                                                selected_funcs=[\"spect_slope\"],\n",
    "                                                funcs_params=None,\n",
    "                                                ch_names=epochs.info[\"ch_names\"]\n",
    "                                                )"
   ]
  },
  {
   "cell_type": "code",
   "execution_count": null,
   "metadata": {},
   "outputs": [],
   "source": [
    "y = hurst.reshape(len(epochs), n_chs, 4)[:,:,:2] # intercept and slope"
   ]
  },
  {
   "cell_type": "code",
   "execution_count": null,
   "metadata": {},
   "outputs": [],
   "source": [
    "y.shape"
   ]
  },
  {
   "cell_type": "code",
   "execution_count": null,
   "metadata": {},
   "outputs": [],
   "source": [
    "x = hurst.reshape(len(epochs), n_chs, 4)[:,:,:2]"
   ]
  },
  {
   "cell_type": "code",
   "execution_count": null,
   "metadata": {},
   "outputs": [],
   "source": [
    "x = x.reshape(257, 118)"
   ]
  },
  {
   "cell_type": "code",
   "execution_count": null,
   "metadata": {},
   "outputs": [],
   "source": [
    "x == hurst[:, :118]"
   ]
  },
  {
   "cell_type": "code",
   "execution_count": null,
   "metadata": {},
   "outputs": [],
   "source": [
    "freq_bands = {\n",
    "            \"delta\": (0.5, 4),\n",
    "            \"theta\": (4, 8),\n",
    "            \"alpha\": (8, 13),\n",
    "            \"beta\": (13, 30),\n",
    "            \"lower_gamma\": (30, 45),\n",
    "            \"upper_gamma\": (45, 80)\n",
    "            }\n",
    "\n",
    "psds, freqs = epochs.compute_psd(method=\"multitaper\",\n",
    "                                    picks=\"eeg\",\n",
    "                                    fmin=freq_bands[\"delta\"][0],\n",
    "                                    fmax=freq_bands[\"upper_gamma\"][1],\n",
    "                                    ).get_data(return_freqs=True)"
   ]
  },
  {
   "cell_type": "code",
   "execution_count": null,
   "metadata": {},
   "outputs": [],
   "source": [
    "psds.shape"
   ]
  },
  {
   "cell_type": "code",
   "execution_count": null,
   "metadata": {},
   "outputs": [],
   "source": [
    "X"
   ]
  }
 ],
 "metadata": {
  "kernelspec": {
   "display_name": "Python 3",
   "language": "python",
   "name": "python3"
  },
  "language_info": {
   "codemirror_mode": {
    "name": "ipython",
    "version": 3
   },
   "file_extension": ".py",
   "mimetype": "text/x-python",
   "name": "python",
   "nbconvert_exporter": "python",
   "pygments_lexer": "ipython3",
   "version": "3.10.9"
  }
 },
 "nbformat": 4,
 "nbformat_minor": 2
}
