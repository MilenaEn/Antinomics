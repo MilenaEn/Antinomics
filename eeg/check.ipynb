{
 "cells": [
  {
   "cell_type": "code",
   "execution_count": 23,
   "metadata": {},
   "outputs": [],
   "source": [
    "%matplotlib qt\n",
    "import mne\n",
    "import matplotlib.pyplot as plt"
   ]
  },
  {
   "cell_type": "code",
   "execution_count": null,
   "metadata": {},
   "outputs": [],
   "source": [
    "%matplotlib qt\n",
    "from eeg_preprocessing import preprocessing\n",
    "preprocessing(subject_id=\"zdfy\",\n",
    "                subjects_dir=\"/Users/payamsadeghishabestari/antinomics_clean_codes/subjects\",\n",
    "                paradigm=\"gpias\",\n",
    "                manual_data_scroll=True,\n",
    "                run_ica=False,\n",
    "                manual_ica_removal=False,\n",
    "                eog_correct=True,\n",
    "                pulse_correct=True,\n",
    "                resp_correct=False,\n",
    "                create_report=True,\n",
    "                saving_dir=None,\n",
    "                verbose=\"ERROR\")"
   ]
  },
  {
   "cell_type": "code",
   "execution_count": null,
   "metadata": {},
   "outputs": [],
   "source": [
    "report = mne.open_report(\"/Users/payamsadeghishabestari/antinomics_clean_codes/subjects/zdfy/EEG/reports/rest_v1.h5\")\n",
    "report.save(\"/Users/payamsadeghishabestari/Desktop/rest.html\", overwrite=True)"
   ]
  },
  {
   "cell_type": "code",
   "execution_count": null,
   "metadata": {},
   "outputs": [],
   "source": [
    "from eeg_processing import run_rs_analysis\n",
    "run_rs_analysis(\n",
    "        subject_id=\"zdfy\",\n",
    "        subjects_dir=\"/Users/payamsadeghishabestari/antinomics_clean_codes/subjects\",\n",
    "        visit=1,\n",
    "        event_ids=None,\n",
    "        source_analysis=True,\n",
    "        mri=False,\n",
    "        subjects_fs_dir=None,\n",
    "        manual_data_scroll=True,\n",
    "        create_report=True,\n",
    "        saving_dir=None,\n",
    "        verbose=\"ERROR\"\n",
    "        )"
   ]
  },
  {
   "cell_type": "code",
   "execution_count": null,
   "metadata": {},
   "outputs": [],
   "source": [
    "%matplotlib qt\n",
    "from eeg_processing import run_erp_analysis\n",
    "run_erp_analysis(\n",
    "        subject_id=\"zdfy\",\n",
    "        subjects_dir=\"/Users/payamsadeghishabestari/antinomics_clean_codes/subjects\",\n",
    "        paradigm=\"gpias\",\n",
    "        events=None,\n",
    "        source_analysis=False,\n",
    "        mri=False,\n",
    "        subjects_fs_dir=None,\n",
    "        manual_data_scroll=False,\n",
    "        create_report=True,\n",
    "        saving_dir=None,\n",
    "        verbose=\"ERROR\"\n",
    "        )"
   ]
  },
  {
   "cell_type": "markdown",
   "metadata": {},
   "source": [
    "Eyetracking"
   ]
  },
  {
   "cell_type": "code",
   "execution_count": null,
   "metadata": {},
   "outputs": [],
   "source": [
    "import mne\n",
    "raw = mne.io.read_raw_brainvision(\"/Users/payamsadeghishabestari/antinomics_clean_codes/subjects/zdfy/EEG/xxxxx/zdfy_xxxxx.vhdr\")\n",
    "mne.read_events(raw)"
   ]
  },
  {
   "cell_type": "code",
   "execution_count": null,
   "metadata": {},
   "outputs": [],
   "source": [
    "raw.annotations"
   ]
  },
  {
   "cell_type": "code",
   "execution_count": null,
   "metadata": {},
   "outputs": [],
   "source": [
    "from mne.io import read_raw_brainvision, read_raw_eyelink\n",
    "from mne import events_from_annotations\n",
    "from mne.preprocessing import realign_raw\n",
    "\n",
    "\n",
    "## load\n",
    "fname_eeg = \"/Users/payamsadeghishabestari/Downloads/alertness_01_H036.vhdr\"\n",
    "fname_et = \"/Users/payamsadeghishabestari/Downloads/local_al1H036.asc\"\n",
    "\n",
    "raw_eeg = read_raw_brainvision(fname_eeg, preload=True)\n",
    "raw_eye = read_raw_eyelink(fname=fname_et, create_annotations=True) \n",
    "events_eeg, event_ids_eeg = events_from_annotations(raw_eeg)\n",
    "events_eye, event_ids_eye = events_from_annotations(raw_eye)\n",
    "\n",
    "## for now\n",
    "stim_id_eeg_1, stim_id_eeg_2 = 8, 9\n",
    "stim_id_eye_1, stim_id_eye_2 = 4, 5\n",
    "\n",
    "s_raw = events_eeg[(events_eeg[:,2] == stim_id_eeg_1) | (events_eeg[:,2] == stim_id_eeg_2)][:, 0]\n",
    "s_other = events_eye[(events_eye[:,2] == stim_id_eye_1) | (events_eye[:,2] == stim_id_eye_2)][:, 0]\n",
    "\n",
    "## realigning\n",
    "realign_raw(raw=raw_eeg,\n",
    "            other=raw_eye,\n",
    "            t_raw=s_raw / raw_eeg.info[\"sfreq\"] - raw_eeg.first_time,\n",
    "            t_other=s_other / raw_eye.info[\"sfreq\"] - raw_eye.first_time,\n",
    "            verbose=None)\n",
    "\n",
    "raw_eye.add_channels([raw_eeg], force_update_info=True)\n",
    "events, event_dict = events_from_annotations(raw_eye)\n",
    "del raw_eeg  "
   ]
  },
  {
   "cell_type": "code",
   "execution_count": null,
   "metadata": {},
   "outputs": [],
   "source": [
    "fname_eeg = \"/Users/payamsadeghishabestari/Downloads/alertness_01_H036.vhdr\"\n",
    "fname_et = \"/Users/payamsadeghishabestari/Downloads/local_al1H036.asc\"\n",
    "\n",
    "raw_eeg = read_raw_brainvision(fname_eeg, preload=True)\n",
    "raw_eye = read_raw_eyelink(fname=fname_et, create_annotations=True) "
   ]
  },
  {
   "cell_type": "markdown",
   "metadata": {},
   "source": [
    "Lets see what is regularity"
   ]
  },
  {
   "cell_type": "code",
   "execution_count": null,
   "metadata": {},
   "outputs": [],
   "source": [
    "import mne"
   ]
  },
  {
   "cell_type": "code",
   "execution_count": null,
   "metadata": {},
   "outputs": [],
   "source": [
    "fname = \"/Users/payamsadeghishabestari/antinomics_clean_codes/subjects/dvob/EEG/regularity/dvob_regularity.vhdr\"\n",
    "raw = mne.io.read_raw_brainvision(fname, preload=True)\n",
    "raw.resample(250)"
   ]
  },
  {
   "cell_type": "code",
   "execution_count": null,
   "metadata": {},
   "outputs": [],
   "source": [
    "events, events_dict = mne.events_from_annotations(raw)"
   ]
  },
  {
   "cell_type": "code",
   "execution_count": 4,
   "metadata": {},
   "outputs": [
    {
     "name": "stderr",
     "output_type": "stream",
     "text": [
      "/Users/payamsadeghishabestari/virtual_envs/.venv/lib/python3.10/site-packages/pandas/core/arrays/masked.py:60: UserWarning: Pandas requires version '1.3.6' or newer of 'bottleneck' (version '1.3.5' currently installed).\n",
      "  from pandas.core import (\n"
     ]
    }
   ],
   "source": [
    "from scipy.io import loadmat\n",
    "import pandas as pd"
   ]
  },
  {
   "cell_type": "code",
   "execution_count": 8,
   "metadata": {},
   "outputs": [],
   "source": [
    "fname = \"/Users/payamsadeghishabestari/Downloads/NALQ L tEAS_absThreshold 12-Dec-2024 14_51_37.mat\"\n",
    "data = loadmat(fname)\n",
    "data = {k: v for k, v in data.items() if not k.startswith(\"__\")}"
   ]
  },
  {
   "cell_type": "code",
   "execution_count": 26,
   "metadata": {},
   "outputs": [
    {
     "data": {
      "text/plain": [
       "dict_keys(['experiment', 'stimulusParameters', 'betweenRuns', 'withinRuns', 'statsModel', 'expGUIhandles'])"
      ]
     },
     "execution_count": 26,
     "metadata": {},
     "output_type": "execute_result"
    }
   ],
   "source": [
    "data.keys()"
   ]
  },
  {
   "cell_type": "code",
   "execution_count": 27,
   "metadata": {},
   "outputs": [
    {
     "data": {
      "text/plain": [
       "array([[(array([[44100]], dtype=uint16), array(['tone'], dtype='<U4'), array([[125]], dtype=uint8), array([[0.25]]), array([[30]], dtype=uint8), array([[0]], dtype=uint8), array(['tone'], dtype='<U4'), array([[1]], dtype=uint8), array([[0]], dtype=uint8), array([[-50]], dtype=int16), array(['none'], dtype='<U4'), array([[1]], dtype=uint8), array([[-100]], dtype=int16), array([[0]], dtype=uint8), array([[0.3]]), array([[0.004]]), array([], shape=(0, 0), dtype=uint8), array([[1]], dtype=uint8), array(['targetLevel'], dtype='<U11'), array([[30, 30, 30, 30, 30, 30, 30, 30, 30, 30, 30, 30, 30]], dtype=uint8), array([[10,  2]], dtype=uint8), array([[-30,  90]], dtype=int16), array([[10]], dtype=uint8), array([[2]], dtype=uint8), array([[4]], dtype=uint8), array([[0.2, 0.1, 2. ]]), array([[0.1]]), array([[0.11746517]]), array([[2]], dtype=uint8), array([[2.2675737e-05]]), array([[10]], dtype=uint8), array([[4]], dtype=uint8), array([[array(['training'], dtype='<U8')]], dtype=object), array([[10]], dtype=uint8), array([[array(['YES wenn Sie den Ton deutlich hören'], dtype='<U35'),\n",
       "                array([], dtype='<U1'),\n",
       "                array(['NO falls nicht (oder Sie unsicher sind)'], dtype='<U39')]],\n",
       "              dtype=object), array([[0.3]]), array([[0.55]]), array([[0]], dtype=uint8), array([[44100]], dtype=uint16), array([], shape=(0, 0), dtype=uint8), array([[1]], dtype=uint8), array(['sin'], dtype='<U3'), array(['sin'], dtype='<U3'), array([[1]], dtype=uint8), array([[0.5]]), array([[array([[array(['YES if you hear the tone clearly'], dtype='<U32'),\n",
       "                        array([], dtype='<U1'),\n",
       "                        array(['NO if not (or you are uncertain)'], dtype='<U32')]],\n",
       "                      dtype=object)                                                 ,\n",
       "                array([[array(['count the tones you hear clearly'], dtype='<U32'),\n",
       "                        array([], dtype='<U1'),\n",
       "                        array(['ignore indistinct tones'], dtype='<U23')]], dtype=object)]],\n",
       "              dtype=object), array([[array([[array(['YES wenn Sie den Ton deutlich hören'], dtype='<U35'),\n",
       "                        array([], dtype='<U1'),\n",
       "                        array(['NO falls nicht (oder Sie unsicher sind)'], dtype='<U39')]],\n",
       "                      dtype=object)                                                        ,\n",
       "                array([[array(['zählen Sie die Töne, die Sie deutlich hören'], dtype='<U43'),\n",
       "                        array([], dtype='<U1'),\n",
       "                        array(['ignorieren Sie undeutliche Töne'], dtype='<U31')]],\n",
       "                      dtype=object)                                                          ]],\n",
       "              dtype=object), array([[30]], dtype=uint8))                                                                                                                                                                                                                                                                                                                                                                                                                                                                                                                                                                                                                                                                                                                                                                                                                                                                                                                                                                                                                                                                         ]],\n",
       "      dtype=[('sampleRate', 'O'), ('targetType', 'O'), ('targetFrequency', 'O'), ('targetDuration', 'O'), ('targetLevel', 'O'), ('gapDuration', 'O'), ('maskerType', 'O'), ('maskerRelativeFrequency', 'O'), ('maskerDuration', 'O'), ('maskerLevel', 'O'), ('backgroundType', 'O'), ('backgroundTypeValue', 'O'), ('backgroundLevel', 'O'), ('includeCue', 'O'), ('stimulusDelay', 'O'), ('rampDuration', 'O'), ('absThresholds', 'O'), ('numOHIOtones', 'O'), ('WRVname', 'O'), ('WRVstartValues', 'O'), ('WRVsteps', 'O'), ('WRVlimits', 'O'), ('WRVinitialStep', 'O'), ('WRVsmallStep', 'O'), ('calibrationdB', 'O'), ('catchTrialRates', 'O'), ('catchTrialBaseRate', 'O'), ('catchTrialRate', 'O'), ('catchTrialTimeConstant', 'O'), ('dt', 'O'), ('jitterStartdB', 'O'), ('restoreCalibration', 'O'), ('messageString', 'O'), ('cueTestDifference', 'O'), ('subjectText', 'O'), ('testTargetBegins', 'O'), ('testTargetEnds', 'O'), ('musicLeveldB', 'O'), ('subjectSampleRate', 'O'), ('MAPSampleRate', 'O'), ('language', 'O'), ('maskerPhase', 'O'), ('targetPhase', 'O'), ('OHIOnTones', 'O'), ('AFCsilenceDuration', 'O'), ('instructions', 'O'), ('instructionsGER', 'O'), ('targetLevels', 'O')])"
      ]
     },
     "execution_count": 27,
     "metadata": {},
     "output_type": "execute_result"
    }
   ],
   "source": [
    "data[\"stimulusParameters\"]"
   ]
  },
  {
   "cell_type": "code",
   "execution_count": 24,
   "metadata": {},
   "outputs": [
    {
     "ename": "ValueError",
     "evalue": "x and y must have same first dimension, but have shapes (1, 100) and (481,)",
     "output_type": "error",
     "traceback": [
      "\u001b[0;31m---------------------------------------------------------------------------\u001b[0m",
      "\u001b[0;31mValueError\u001b[0m                                Traceback (most recent call last)",
      "Cell \u001b[0;32mIn[24], line 6\u001b[0m\n\u001b[1;32m      1\u001b[0m x \u001b[38;5;241m=\u001b[39m data[\u001b[38;5;124m\"\u001b[39m\u001b[38;5;124mexperiment\u001b[39m\u001b[38;5;124m\"\u001b[39m][\u001b[38;5;241m0\u001b[39m][\u001b[38;5;241m0\u001b[39m][\u001b[38;5;241m20\u001b[39m]\n\u001b[1;32m      3\u001b[0m y \u001b[38;5;241m=\u001b[39m data[\u001b[38;5;124m\"\u001b[39m\u001b[38;5;124mexperiment\u001b[39m\u001b[38;5;124m\"\u001b[39m][\u001b[38;5;241m0\u001b[39m][\u001b[38;5;241m0\u001b[39m][\u001b[38;5;241m23\u001b[39m][\u001b[38;5;241m0\u001b[39m]\n\u001b[0;32m----> 6\u001b[0m \u001b[43mplt\u001b[49m\u001b[38;5;241;43m.\u001b[39;49m\u001b[43mplot\u001b[49m\u001b[43m(\u001b[49m\u001b[43mx\u001b[49m\u001b[43m,\u001b[49m\u001b[43m \u001b[49m\u001b[43my\u001b[49m\u001b[43m)\u001b[49m\n",
      "File \u001b[0;32m~/virtual_envs/.venv/lib/python3.10/site-packages/matplotlib/pyplot.py:3708\u001b[0m, in \u001b[0;36mplot\u001b[0;34m(scalex, scaley, data, *args, **kwargs)\u001b[0m\n\u001b[1;32m   3700\u001b[0m \u001b[38;5;129m@_copy_docstring_and_deprecators\u001b[39m(Axes\u001b[38;5;241m.\u001b[39mplot)\n\u001b[1;32m   3701\u001b[0m \u001b[38;5;28;01mdef\u001b[39;00m \u001b[38;5;21mplot\u001b[39m(\n\u001b[1;32m   3702\u001b[0m     \u001b[38;5;241m*\u001b[39margs: \u001b[38;5;28mfloat\u001b[39m \u001b[38;5;241m|\u001b[39m ArrayLike \u001b[38;5;241m|\u001b[39m \u001b[38;5;28mstr\u001b[39m,\n\u001b[0;32m   (...)\u001b[0m\n\u001b[1;32m   3706\u001b[0m     \u001b[38;5;241m*\u001b[39m\u001b[38;5;241m*\u001b[39mkwargs,\n\u001b[1;32m   3707\u001b[0m ) \u001b[38;5;241m-\u001b[39m\u001b[38;5;241m>\u001b[39m \u001b[38;5;28mlist\u001b[39m[Line2D]:\n\u001b[0;32m-> 3708\u001b[0m     \u001b[38;5;28;01mreturn\u001b[39;00m \u001b[43mgca\u001b[49m\u001b[43m(\u001b[49m\u001b[43m)\u001b[49m\u001b[38;5;241;43m.\u001b[39;49m\u001b[43mplot\u001b[49m\u001b[43m(\u001b[49m\n\u001b[1;32m   3709\u001b[0m \u001b[43m        \u001b[49m\u001b[38;5;241;43m*\u001b[39;49m\u001b[43margs\u001b[49m\u001b[43m,\u001b[49m\n\u001b[1;32m   3710\u001b[0m \u001b[43m        \u001b[49m\u001b[43mscalex\u001b[49m\u001b[38;5;241;43m=\u001b[39;49m\u001b[43mscalex\u001b[49m\u001b[43m,\u001b[49m\n\u001b[1;32m   3711\u001b[0m \u001b[43m        \u001b[49m\u001b[43mscaley\u001b[49m\u001b[38;5;241;43m=\u001b[39;49m\u001b[43mscaley\u001b[49m\u001b[43m,\u001b[49m\n\u001b[1;32m   3712\u001b[0m \u001b[43m        \u001b[49m\u001b[38;5;241;43m*\u001b[39;49m\u001b[38;5;241;43m*\u001b[39;49m\u001b[43m(\u001b[49m\u001b[43m{\u001b[49m\u001b[38;5;124;43m\"\u001b[39;49m\u001b[38;5;124;43mdata\u001b[39;49m\u001b[38;5;124;43m\"\u001b[39;49m\u001b[43m:\u001b[49m\u001b[43m \u001b[49m\u001b[43mdata\u001b[49m\u001b[43m}\u001b[49m\u001b[43m \u001b[49m\u001b[38;5;28;43;01mif\u001b[39;49;00m\u001b[43m \u001b[49m\u001b[43mdata\u001b[49m\u001b[43m \u001b[49m\u001b[38;5;129;43;01mis\u001b[39;49;00m\u001b[43m \u001b[49m\u001b[38;5;129;43;01mnot\u001b[39;49;00m\u001b[43m \u001b[49m\u001b[38;5;28;43;01mNone\u001b[39;49;00m\u001b[43m \u001b[49m\u001b[38;5;28;43;01melse\u001b[39;49;00m\u001b[43m \u001b[49m\u001b[43m{\u001b[49m\u001b[43m}\u001b[49m\u001b[43m)\u001b[49m\u001b[43m,\u001b[49m\n\u001b[1;32m   3713\u001b[0m \u001b[43m        \u001b[49m\u001b[38;5;241;43m*\u001b[39;49m\u001b[38;5;241;43m*\u001b[39;49m\u001b[43mkwargs\u001b[49m\u001b[43m,\u001b[49m\n\u001b[1;32m   3714\u001b[0m \u001b[43m    \u001b[49m\u001b[43m)\u001b[49m\n",
      "File \u001b[0;32m~/virtual_envs/.venv/lib/python3.10/site-packages/matplotlib/axes/_axes.py:1779\u001b[0m, in \u001b[0;36mAxes.plot\u001b[0;34m(self, scalex, scaley, data, *args, **kwargs)\u001b[0m\n\u001b[1;32m   1536\u001b[0m \u001b[38;5;250m\u001b[39m\u001b[38;5;124;03m\"\"\"\u001b[39;00m\n\u001b[1;32m   1537\u001b[0m \u001b[38;5;124;03mPlot y versus x as lines and/or markers.\u001b[39;00m\n\u001b[1;32m   1538\u001b[0m \n\u001b[0;32m   (...)\u001b[0m\n\u001b[1;32m   1776\u001b[0m \u001b[38;5;124;03m(``'green'``) or hex strings (``'#008000'``).\u001b[39;00m\n\u001b[1;32m   1777\u001b[0m \u001b[38;5;124;03m\"\"\"\u001b[39;00m\n\u001b[1;32m   1778\u001b[0m kwargs \u001b[38;5;241m=\u001b[39m cbook\u001b[38;5;241m.\u001b[39mnormalize_kwargs(kwargs, mlines\u001b[38;5;241m.\u001b[39mLine2D)\n\u001b[0;32m-> 1779\u001b[0m lines \u001b[38;5;241m=\u001b[39m [\u001b[38;5;241m*\u001b[39m\u001b[38;5;28mself\u001b[39m\u001b[38;5;241m.\u001b[39m_get_lines(\u001b[38;5;28mself\u001b[39m, \u001b[38;5;241m*\u001b[39margs, data\u001b[38;5;241m=\u001b[39mdata, \u001b[38;5;241m*\u001b[39m\u001b[38;5;241m*\u001b[39mkwargs)]\n\u001b[1;32m   1780\u001b[0m \u001b[38;5;28;01mfor\u001b[39;00m line \u001b[38;5;129;01min\u001b[39;00m lines:\n\u001b[1;32m   1781\u001b[0m     \u001b[38;5;28mself\u001b[39m\u001b[38;5;241m.\u001b[39madd_line(line)\n",
      "File \u001b[0;32m~/virtual_envs/.venv/lib/python3.10/site-packages/matplotlib/axes/_base.py:296\u001b[0m, in \u001b[0;36m_process_plot_var_args.__call__\u001b[0;34m(self, axes, data, *args, **kwargs)\u001b[0m\n\u001b[1;32m    294\u001b[0m     this \u001b[38;5;241m+\u001b[39m\u001b[38;5;241m=\u001b[39m args[\u001b[38;5;241m0\u001b[39m],\n\u001b[1;32m    295\u001b[0m     args \u001b[38;5;241m=\u001b[39m args[\u001b[38;5;241m1\u001b[39m:]\n\u001b[0;32m--> 296\u001b[0m \u001b[38;5;28;01myield from\u001b[39;00m \u001b[38;5;28;43mself\u001b[39;49m\u001b[38;5;241;43m.\u001b[39;49m\u001b[43m_plot_args\u001b[49m\u001b[43m(\u001b[49m\n\u001b[1;32m    297\u001b[0m \u001b[43m    \u001b[49m\u001b[43maxes\u001b[49m\u001b[43m,\u001b[49m\u001b[43m \u001b[49m\u001b[43mthis\u001b[49m\u001b[43m,\u001b[49m\u001b[43m \u001b[49m\u001b[43mkwargs\u001b[49m\u001b[43m,\u001b[49m\u001b[43m \u001b[49m\u001b[43mambiguous_fmt_datakey\u001b[49m\u001b[38;5;241;43m=\u001b[39;49m\u001b[43mambiguous_fmt_datakey\u001b[49m\u001b[43m)\u001b[49m\n",
      "File \u001b[0;32m~/virtual_envs/.venv/lib/python3.10/site-packages/matplotlib/axes/_base.py:486\u001b[0m, in \u001b[0;36m_process_plot_var_args._plot_args\u001b[0;34m(self, axes, tup, kwargs, return_kwargs, ambiguous_fmt_datakey)\u001b[0m\n\u001b[1;32m    483\u001b[0m     axes\u001b[38;5;241m.\u001b[39myaxis\u001b[38;5;241m.\u001b[39mupdate_units(y)\n\u001b[1;32m    485\u001b[0m \u001b[38;5;28;01mif\u001b[39;00m x\u001b[38;5;241m.\u001b[39mshape[\u001b[38;5;241m0\u001b[39m] \u001b[38;5;241m!=\u001b[39m y\u001b[38;5;241m.\u001b[39mshape[\u001b[38;5;241m0\u001b[39m]:\n\u001b[0;32m--> 486\u001b[0m     \u001b[38;5;28;01mraise\u001b[39;00m \u001b[38;5;167;01mValueError\u001b[39;00m(\u001b[38;5;124mf\u001b[39m\u001b[38;5;124m\"\u001b[39m\u001b[38;5;124mx and y must have same first dimension, but \u001b[39m\u001b[38;5;124m\"\u001b[39m\n\u001b[1;32m    487\u001b[0m                      \u001b[38;5;124mf\u001b[39m\u001b[38;5;124m\"\u001b[39m\u001b[38;5;124mhave shapes \u001b[39m\u001b[38;5;132;01m{\u001b[39;00mx\u001b[38;5;241m.\u001b[39mshape\u001b[38;5;132;01m}\u001b[39;00m\u001b[38;5;124m and \u001b[39m\u001b[38;5;132;01m{\u001b[39;00my\u001b[38;5;241m.\u001b[39mshape\u001b[38;5;132;01m}\u001b[39;00m\u001b[38;5;124m\"\u001b[39m)\n\u001b[1;32m    488\u001b[0m \u001b[38;5;28;01mif\u001b[39;00m x\u001b[38;5;241m.\u001b[39mndim \u001b[38;5;241m>\u001b[39m \u001b[38;5;241m2\u001b[39m \u001b[38;5;129;01mor\u001b[39;00m y\u001b[38;5;241m.\u001b[39mndim \u001b[38;5;241m>\u001b[39m \u001b[38;5;241m2\u001b[39m:\n\u001b[1;32m    489\u001b[0m     \u001b[38;5;28;01mraise\u001b[39;00m \u001b[38;5;167;01mValueError\u001b[39;00m(\u001b[38;5;124mf\u001b[39m\u001b[38;5;124m\"\u001b[39m\u001b[38;5;124mx and y can be no greater than 2D, but have \u001b[39m\u001b[38;5;124m\"\u001b[39m\n\u001b[1;32m    490\u001b[0m                      \u001b[38;5;124mf\u001b[39m\u001b[38;5;124m\"\u001b[39m\u001b[38;5;124mshapes \u001b[39m\u001b[38;5;132;01m{\u001b[39;00mx\u001b[38;5;241m.\u001b[39mshape\u001b[38;5;132;01m}\u001b[39;00m\u001b[38;5;124m and \u001b[39m\u001b[38;5;132;01m{\u001b[39;00my\u001b[38;5;241m.\u001b[39mshape\u001b[38;5;132;01m}\u001b[39;00m\u001b[38;5;124m\"\u001b[39m)\n",
      "\u001b[0;31mValueError\u001b[0m: x and y must have same first dimension, but have shapes (1, 100) and (481,)"
     ]
    }
   ],
   "source": [
    "x = data[\"experiment\"][0][0][20]\n",
    "\n",
    "y = data[\"experiment\"][0][0][23][0]\n",
    "\n",
    "\n",
    "plt.plot(x, y)\n"
   ]
  },
  {
   "cell_type": "code",
   "execution_count": 25,
   "metadata": {},
   "outputs": [
    {
     "data": {
      "text/plain": [
       "array([[0.01, 0.03, 0.05, 0.07, 0.09, 0.11, 0.13, 0.15, 0.17, 0.19, 0.21,\n",
       "        0.23, 0.25, 0.27, 0.29, 0.31, 0.33, 0.35, 0.37, 0.39, 0.41, 0.43,\n",
       "        0.45, 0.47, 0.49, 0.51, 0.53, 0.55, 0.57, 0.59, 0.61, 0.63, 0.65,\n",
       "        0.67, 0.69, 0.71, 0.73, 0.75, 0.77, 0.79, 0.81, 0.83, 0.85, 0.87,\n",
       "        0.89, 0.91, 0.93, 0.95, 0.97, 0.99, 1.01, 1.03, 1.05, 1.07, 1.09,\n",
       "        1.11, 1.13, 1.15, 1.17, 1.19, 1.21, 1.23, 1.25, 1.27, 1.29, 1.31,\n",
       "        1.33, 1.35, 1.37, 1.39, 1.41, 1.43, 1.45, 1.47, 1.49, 1.51, 1.53,\n",
       "        1.55, 1.57, 1.59, 1.61, 1.63, 1.65, 1.67, 1.69, 1.71, 1.73, 1.75,\n",
       "        1.77, 1.79, 1.81, 1.83, 1.85, 1.87, 1.89, 1.91, 1.93, 1.95, 1.97,\n",
       "        1.99]])"
      ]
     },
     "execution_count": 25,
     "metadata": {},
     "output_type": "execute_result"
    }
   ],
   "source": [
    "data[\"experiment\"][0][0][20]"
   ]
  },
  {
   "cell_type": "code",
   "execution_count": 35,
   "metadata": {},
   "outputs": [
    {
     "name": "stdout",
     "output_type": "stream",
     "text": [
      "Reading /Users/payamsadeghishabestari/antinomics_clean_codes/subjects/zdfy/EEG/rest_v1/epochs-eo-epo.fif ...\n",
      "    Read a total of 1 projection items:\n",
      "        Average EEG reference (1 x 59) active\n",
      "    Found the data of interest:\n",
      "        t =       0.00 ...    1996.00 ms\n",
      "        0 CTF compensation matrices available\n",
      "Not setting metadata\n",
      "114 matching events found\n",
      "No baseline correction applied\n",
      "Created an SSP operator (subspace dimension = 1)\n",
      "1 projection items activated\n",
      "Reading /Users/payamsadeghishabestari/antinomics_clean_codes/subjects/zdfy/EEG/rest_v1/epochs-ec-epo.fif ...\n",
      "    Read a total of 1 projection items:\n",
      "        Average EEG reference (1 x 59) active\n",
      "    Found the data of interest:\n",
      "        t =       0.00 ...    1996.00 ms\n",
      "        0 CTF compensation matrices available\n",
      "Not setting metadata\n",
      "143 matching events found\n",
      "No baseline correction applied\n",
      "Created an SSP operator (subspace dimension = 1)\n",
      "1 projection items activated\n"
     ]
    }
   ],
   "source": [
    "import mne\n",
    "epochs_fnames = [\"/Users/payamsadeghishabestari/antinomics_clean_codes/subjects/zdfy/EEG/rest_v1/epochs-eo-epo.fif\",\n",
    "                \"/Users/payamsadeghishabestari/antinomics_clean_codes/subjects/zdfy/EEG/rest_v1/epochs-ec-epo.fif\"]\n",
    "\n",
    "epochs, eye_labels = [], []\n",
    "for ep_fname, title in zip(epochs_fnames, [\"open\", \"close\"]):\n",
    "    eps = mne.read_epochs(ep_fname, preload=True)\n",
    "    eps.drop_bad()\n",
    "    epochs.append(eps)\n",
    "    eye_labels += len(eps) * [title]"
   ]
  },
  {
   "cell_type": "code",
   "execution_count": 43,
   "metadata": {},
   "outputs": [
    {
     "name": "stdout",
     "output_type": "stream",
     "text": [
      "Not setting metadata\n"
     ]
    },
    {
     "name": "stdout",
     "output_type": "stream",
     "text": [
      "257 matching events found\n",
      "No baseline correction applied\n",
      "Created an SSP operator (subspace dimension = 1)\n"
     ]
    },
    {
     "name": "stderr",
     "output_type": "stream",
     "text": [
      "/var/folders/20/hsy69tx529ndn3rkv5gzcf0c0000gn/T/ipykernel_80946/2336604168.py:1: RuntimeWarning: Concatenation of Annotations within Epochs is not supported yet. All annotations will be dropped.\n",
      "  epochs = mne.concatenate_epochs(epochs)\n"
     ]
    }
   ],
   "source": [
    "epochs = mne.concatenate_epochs(epochs)"
   ]
  },
  {
   "cell_type": "code",
   "execution_count": 64,
   "metadata": {},
   "outputs": [],
   "source": [
    "import numpy as np\n",
    "import mne_features"
   ]
  },
  {
   "cell_type": "code",
   "execution_count": 63,
   "metadata": {},
   "outputs": [],
   "source": [
    "def compute_sensor_band_power(epochs):\n",
    "    \"\"\"\n",
    "    \"\"\"\n",
    "    freq_bands = {\n",
    "                    \"delta\": (0.5, 4),\n",
    "                    \"theta\": (4, 8),\n",
    "                    \"alpha\": (8, 13),\n",
    "                    \"beta\": (13, 30),\n",
    "                    \"lower_gamma\": (30, 45),\n",
    "                    \"upper_gamma\": (45, 80)\n",
    "                    }\n",
    "    \n",
    "    psds, freqs = epochs.compute_psd(method=\"multitaper\",\n",
    "                                    picks=\"eeg\",\n",
    "                                    fmin=freq_bands[\"delta\"][0],\n",
    "                                    fmax=freq_bands[\"upper_gamma\"][1],\n",
    "                                    ).get_data(return_freqs=True)\n",
    "    psds /= np.sum(psds, axis=-1, keepdims=True)  # normalize the PSDs\n",
    "    ep_psds = []\n",
    "    for fmin, fmax in freq_bands.values():\n",
    "        psds_band = psds[:, :, (freqs >= fmin) & (freqs < fmax)].mean(axis=-1)\n",
    "        ep_psds.append(psds_band)\n",
    "    \n",
    "\n",
    "    return np.array(ep_psds).transpose(1, 2, 0)"
   ]
  },
  {
   "cell_type": "code",
   "execution_count": 91,
   "metadata": {},
   "outputs": [],
   "source": [
    "epochs.pick(\"eeg\")\n",
    "funcs_params = {\n",
    "                    \"pow_freq_bands__freq_bands\": freq_bands,\n",
    "                    \"pow_freq_bands__psd_method\": \"multitaper\",\n",
    "                    \"pow_freq_bands__normalize\": True\n",
    "                    } \n",
    "\n",
    "powers = mne_features.feature_extraction.extract_features(epochs.get_data(),\n",
    "                                                epochs.info[\"sfreq\"],\n",
    "                                                selected_funcs=[\"pow_freq_bands\"],\n",
    "                                                funcs_params=funcs_params,\n",
    "                                                ch_names=epochs.info[\"ch_names\"],\n",
    "                                                return_as_df=False)"
   ]
  },
  {
   "cell_type": "code",
   "execution_count": null,
   "metadata": {},
   "outputs": [
    {
     "data": {
      "text/plain": [
       "(257, 354)"
      ]
     },
     "execution_count": 93,
     "metadata": {},
     "output_type": "execute_result"
    }
   ],
   "source": [
    "plt.figure()\n",
    "plt.plot()\n",
    "powers.shape"
   ]
  },
  {
   "cell_type": "code",
   "execution_count": 73,
   "metadata": {},
   "outputs": [
    {
     "data": {
      "text/plain": [
       "(257, 295)"
      ]
     },
     "execution_count": 73,
     "metadata": {},
     "output_type": "execute_result"
    }
   ],
   "source": [
    "powers.shape"
   ]
  },
  {
   "cell_type": "code",
   "execution_count": 74,
   "metadata": {},
   "outputs": [
    {
     "name": "stdout",
     "output_type": "stream",
     "text": [
      "    Using multitaper spectrum estimation with 7 DPSS windows\n"
     ]
    }
   ],
   "source": [
    "freq_bands = {\n",
    "            \"delta\": (0.5, 4),\n",
    "            \"theta\": (4, 8),\n",
    "            \"alpha\": (8, 13),\n",
    "            \"beta\": (13, 30),\n",
    "            \"lower_gamma\": (30, 45),\n",
    "            \"upper_gamma\": (45, 80)\n",
    "            }\n",
    "\n",
    "psds, freqs = epochs.compute_psd(method=\"multitaper\",\n",
    "                                    picks=\"eeg\",\n",
    "                                    fmin=freq_bands[\"delta\"][0],\n",
    "                                    fmax=freq_bands[\"upper_gamma\"][1],\n",
    "                                    ).get_data(return_freqs=True)"
   ]
  },
  {
   "cell_type": "code",
   "execution_count": 55,
   "metadata": {},
   "outputs": [
    {
     "data": {
      "text/plain": [
       "(257, 59, 160)"
      ]
     },
     "execution_count": 55,
     "metadata": {},
     "output_type": "execute_result"
    }
   ],
   "source": [
    "psds.shape"
   ]
  },
  {
   "cell_type": "code",
   "execution_count": 87,
   "metadata": {},
   "outputs": [
    {
     "data": {
      "text/plain": [
       "array([[[8.16654127e-02, 4.39605491e-03, 3.35671913e-02, 9.55155287e-04,\n",
       "         3.01142847e-04, 2.26736234e-04],\n",
       "        [1.14898267e-02, 3.26763002e-03, 7.22476973e-02, 2.00061108e-03,\n",
       "         1.45963601e-03, 8.37458951e-04],\n",
       "        [1.59433998e-02, 1.00899137e-02, 6.66650854e-02, 1.97329395e-03,\n",
       "         7.52297177e-04, 7.28599322e-04],\n",
       "        ...,\n",
       "        [2.76304185e-02, 2.35860712e-03, 6.67737727e-02, 1.55246923e-03,\n",
       "         5.47126862e-04, 7.21012275e-04],\n",
       "        [1.55478542e-02, 3.46910690e-03, 8.00093823e-02, 1.30087405e-03,\n",
       "         2.50033630e-04, 1.63668084e-04],\n",
       "        [2.19780455e-02, 2.08067658e-03, 7.80479416e-02, 1.12447529e-03,\n",
       "         1.76969895e-04, 7.76448302e-05]],\n",
       "\n",
       "       [[5.81106637e-02, 8.98716069e-03, 4.29795478e-02, 1.47649759e-03,\n",
       "         5.92050466e-04, 3.32147277e-04],\n",
       "        [5.12736553e-03, 1.44579114e-02, 6.86695008e-02, 2.23632506e-03,\n",
       "         9.13504240e-04, 8.24119121e-04],\n",
       "        [1.45287985e-02, 1.72070785e-02, 6.20560300e-02, 1.66491879e-03,\n",
       "         9.46090675e-04, 7.72537184e-04],\n",
       "        ...,\n",
       "        [5.91513855e-02, 8.63300840e-03, 4.14068283e-02, 1.54147328e-03,\n",
       "         5.98462479e-04, 4.59452981e-04],\n",
       "        [3.94775866e-02, 1.06026068e-02, 5.51184947e-02, 1.95975592e-03,\n",
       "         3.20974135e-04, 1.60523469e-04],\n",
       "        [9.78968070e-03, 1.30530877e-02, 7.27317755e-02, 2.42206372e-03,\n",
       "         3.19251302e-04, 1.10044094e-04]],\n",
       "\n",
       "       [[4.34901461e-02, 1.19168088e-02, 5.00898169e-02, 1.59881862e-03,\n",
       "         6.84481193e-04, 3.44969729e-04],\n",
       "        [3.04287614e-02, 1.07916937e-02, 5.31118704e-02, 1.98923429e-03,\n",
       "         1.37088812e-03, 8.63487269e-04],\n",
       "        [8.25338386e-02, 1.33612064e-02, 2.39261875e-02, 1.38573668e-03,\n",
       "         4.48231458e-04, 2.19983018e-04],\n",
       "        ...,\n",
       "        [4.03442272e-02, 1.09080890e-02, 5.08010818e-02, 1.37771696e-03,\n",
       "         6.86573007e-04, 7.69263118e-04],\n",
       "        [5.63940173e-02, 8.78890887e-03, 4.86329945e-02, 9.79341461e-04,\n",
       "         1.93820066e-04, 1.33314628e-04],\n",
       "        [5.21817756e-02, 7.95435001e-03, 5.24098000e-02, 1.10777693e-03,\n",
       "         1.25505306e-04, 7.87594243e-05]],\n",
       "\n",
       "       ...,\n",
       "\n",
       "       [[1.14642100e-01, 1.97131617e-02, 2.90284341e-03, 1.70899825e-04,\n",
       "         7.47921994e-05, 3.82361885e-05],\n",
       "        [6.54280359e-02, 1.24912928e-02, 8.65083506e-03, 3.71498788e-03,\n",
       "         3.19134386e-03, 1.87322946e-03],\n",
       "        [6.75388853e-02, 5.08893776e-03, 2.07921095e-02, 3.58170308e-03,\n",
       "         1.28345793e-03, 1.65553905e-03],\n",
       "        ...,\n",
       "        [1.01244516e-01, 1.80408022e-02, 3.39095966e-03, 1.05710528e-03,\n",
       "         9.69722593e-04, 6.77624876e-04],\n",
       "        [7.90635387e-02, 2.34118813e-02, 9.86677134e-03, 3.43330770e-03,\n",
       "         6.20354487e-04, 3.55333457e-04],\n",
       "        [7.44223954e-02, 1.42416359e-02, 1.40670601e-02, 5.49396922e-03,\n",
       "         5.92021294e-04, 2.82086726e-04]],\n",
       "\n",
       "       [[9.79073749e-02, 7.89013976e-03, 1.65350376e-02, 1.51894385e-03,\n",
       "         4.11861408e-04, 3.12392384e-04],\n",
       "        [1.04543458e-02, 1.95940873e-02, 4.42699435e-02, 4.21562662e-03,\n",
       "         2.41458596e-03, 1.58372379e-03],\n",
       "        [4.66488592e-02, 2.29058792e-02, 2.77305560e-02, 3.35863283e-03,\n",
       "         1.08534975e-03, 9.31680600e-04],\n",
       "        ...,\n",
       "        [3.83139185e-02, 1.52150935e-02, 2.18820024e-02, 3.08981349e-03,\n",
       "         2.64656726e-03, 2.92206045e-03],\n",
       "        [1.45972335e-02, 1.94802975e-02, 5.86083045e-02, 3.42822567e-03,\n",
       "         5.37371733e-04, 3.29045229e-04],\n",
       "        [3.04647681e-02, 1.44788279e-02, 5.41483784e-02, 3.51273588e-03,\n",
       "         1.54839536e-04, 7.52856779e-05]],\n",
       "\n",
       "       [[1.41379019e-01, 5.43831526e-04, 3.57374565e-04, 4.74584179e-05,\n",
       "         1.01321352e-05, 7.13019867e-06],\n",
       "        [1.03898758e-01, 2.09555700e-03, 1.71801984e-02, 1.23629019e-03,\n",
       "         4.42080376e-04, 4.07360559e-04],\n",
       "        [8.75728224e-02, 9.85788075e-03, 2.20939506e-02, 1.30239690e-03,\n",
       "         4.20767571e-04, 4.26734214e-04],\n",
       "        ...,\n",
       "        [1.38708422e-01, 5.64629121e-04, 1.29480109e-03, 1.50992059e-04,\n",
       "         7.77293599e-05, 5.73166366e-05],\n",
       "        [1.04274518e-01, 2.23655588e-03, 2.10355995e-02, 1.00165688e-03,\n",
       "         1.03917168e-04, 6.54147866e-05],\n",
       "        [5.25368012e-02, 6.44096428e-03, 5.04644984e-02, 2.00305708e-03,\n",
       "         1.26015654e-04, 5.93537444e-05]]])"
      ]
     },
     "execution_count": 87,
     "metadata": {},
     "output_type": "execute_result"
    }
   ],
   "source": [
    "X"
   ]
  }
 ],
 "metadata": {
  "kernelspec": {
   "display_name": "Python 3",
   "language": "python",
   "name": "python3"
  },
  "language_info": {
   "codemirror_mode": {
    "name": "ipython",
    "version": 3
   },
   "file_extension": ".py",
   "mimetype": "text/x-python",
   "name": "python",
   "nbconvert_exporter": "python",
   "pygments_lexer": "ipython3",
   "version": "3.10.9"
  }
 },
 "nbformat": 4,
 "nbformat_minor": 2
}
