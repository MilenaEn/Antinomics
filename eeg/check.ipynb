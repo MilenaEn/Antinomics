{
 "cells": [
  {
   "cell_type": "code",
   "execution_count": 26,
   "metadata": {},
   "outputs": [],
   "source": [
    "%matplotlib qt\n",
    "import mne\n",
    "import matplotlib.pyplot as plt\n",
    "import pandas as pd"
   ]
  },
  {
   "cell_type": "code",
   "execution_count": null,
   "metadata": {},
   "outputs": [],
   "source": [
    "%matplotlib qt\n",
    "from eeg_preprocessing import preprocessing\n",
    "preprocessing(subject_id=\"zdfy\",\n",
    "                subjects_dir=\"/Users/payamsadeghishabestari/antinomics_clean_codes/subjects\",\n",
    "                paradigm=\"gpias\",\n",
    "                manual_data_scroll=True,\n",
    "                run_ica=False,\n",
    "                manual_ica_removal=False,\n",
    "                eog_correct=True,\n",
    "                pulse_correct=True,\n",
    "                resp_correct=False,\n",
    "                create_report=True,\n",
    "                saving_dir=None,\n",
    "                verbose=\"ERROR\")"
   ]
  },
  {
   "cell_type": "code",
   "execution_count": null,
   "metadata": {},
   "outputs": [],
   "source": [
    "report = mne.open_report(\"/Users/payamsadeghishabestari/antinomics_clean_codes/subjects/zdfy/EEG/reports/rest_v1.h5\")\n",
    "report.save(\"/Users/payamsadeghishabestari/Desktop/rest.html\", overwrite=True)"
   ]
  },
  {
   "cell_type": "code",
   "execution_count": null,
   "metadata": {},
   "outputs": [],
   "source": [
    "from eeg_processing import run_rs_analysis\n",
    "run_rs_analysis(\n",
    "        subject_id=\"zdfy\",\n",
    "        subjects_dir=\"/Users/payamsadeghishabestari/antinomics_clean_codes/subjects\",\n",
    "        visit=1,\n",
    "        event_ids=None,\n",
    "        source_analysis=True,\n",
    "        mri=False,\n",
    "        subjects_fs_dir=None,\n",
    "        manual_data_scroll=True,\n",
    "        create_report=True,\n",
    "        saving_dir=None,\n",
    "        verbose=\"ERROR\"\n",
    "        )"
   ]
  },
  {
   "cell_type": "code",
   "execution_count": null,
   "metadata": {},
   "outputs": [],
   "source": [
    "%matplotlib qt\n",
    "from eeg_processing import run_erp_analysis\n",
    "run_erp_analysis(\n",
    "        subject_id=\"zdfy\",\n",
    "        subjects_dir=\"/Users/payamsadeghishabestari/antinomics_clean_codes/subjects\",\n",
    "        paradigm=\"gpias\",\n",
    "        events=None,\n",
    "        source_analysis=False,\n",
    "        mri=False,\n",
    "        subjects_fs_dir=None,\n",
    "        manual_data_scroll=False,\n",
    "        create_report=True,\n",
    "        saving_dir=None,\n",
    "        verbose=\"ERROR\"\n",
    "        )"
   ]
  },
  {
   "cell_type": "markdown",
   "metadata": {},
   "source": [
    "Eyetracking"
   ]
  },
  {
   "cell_type": "code",
   "execution_count": null,
   "metadata": {},
   "outputs": [],
   "source": [
    "import mne\n",
    "raw = mne.io.read_raw_brainvision(\"/Users/payamsadeghishabestari/antinomics_clean_codes/subjects/zdfy/EEG/xxxxx/zdfy_xxxxx.vhdr\")\n",
    "mne.read_events(raw)"
   ]
  },
  {
   "cell_type": "code",
   "execution_count": null,
   "metadata": {},
   "outputs": [],
   "source": [
    "raw.annotations"
   ]
  },
  {
   "cell_type": "code",
   "execution_count": null,
   "metadata": {},
   "outputs": [],
   "source": [
    "from mne.io import read_raw_brainvision, read_raw_eyelink\n",
    "from mne import events_from_annotations\n",
    "from mne.preprocessing import realign_raw\n",
    "\n",
    "\n",
    "## load\n",
    "fname_eeg = \"/Users/payamsadeghishabestari/Downloads/alertness_01_H036.vhdr\"\n",
    "fname_et = \"/Users/payamsadeghishabestari/Downloads/local_al1H036.asc\"\n",
    "\n",
    "raw_eeg = read_raw_brainvision(fname_eeg, preload=True)\n",
    "raw_eye = read_raw_eyelink(fname=fname_et, create_annotations=True) \n",
    "events_eeg, event_ids_eeg = events_from_annotations(raw_eeg)\n",
    "events_eye, event_ids_eye = events_from_annotations(raw_eye)\n",
    "\n",
    "## for now\n",
    "stim_id_eeg_1, stim_id_eeg_2 = 8, 9\n",
    "stim_id_eye_1, stim_id_eye_2 = 4, 5\n",
    "\n",
    "s_raw = events_eeg[(events_eeg[:,2] == stim_id_eeg_1) | (events_eeg[:,2] == stim_id_eeg_2)][:, 0]\n",
    "s_other = events_eye[(events_eye[:,2] == stim_id_eye_1) | (events_eye[:,2] == stim_id_eye_2)][:, 0]\n",
    "\n",
    "## realigning\n",
    "realign_raw(raw=raw_eeg,\n",
    "            other=raw_eye,\n",
    "            t_raw=s_raw / raw_eeg.info[\"sfreq\"] - raw_eeg.first_time,\n",
    "            t_other=s_other / raw_eye.info[\"sfreq\"] - raw_eye.first_time,\n",
    "            verbose=None)\n",
    "\n",
    "raw_eye.add_channels([raw_eeg], force_update_info=True)\n",
    "events, event_dict = events_from_annotations(raw_eye)\n",
    "del raw_eeg  "
   ]
  },
  {
   "cell_type": "code",
   "execution_count": null,
   "metadata": {},
   "outputs": [],
   "source": [
    "fname_eeg = \"/Users/payamsadeghishabestari/Downloads/alertness_01_H036.vhdr\"\n",
    "fname_et = \"/Users/payamsadeghishabestari/Downloads/local_al1H036.asc\"\n",
    "\n",
    "raw_eeg = read_raw_brainvision(fname_eeg, preload=True)\n",
    "raw_eye = read_raw_eyelink(fname=fname_et, create_annotations=True) "
   ]
  },
  {
   "cell_type": "markdown",
   "metadata": {},
   "source": [
    "Lets see what is regularity"
   ]
  },
  {
   "cell_type": "code",
   "execution_count": null,
   "metadata": {},
   "outputs": [],
   "source": [
    "import mne"
   ]
  },
  {
   "cell_type": "code",
   "execution_count": null,
   "metadata": {},
   "outputs": [],
   "source": [
    "fname = \"/Users/payamsadeghishabestari/antinomics_clean_codes/subjects/dvob/EEG/regularity/dvob_regularity.vhdr\"\n",
    "raw = mne.io.read_raw_brainvision(fname, preload=True)\n",
    "raw.resample(250)"
   ]
  },
  {
   "cell_type": "code",
   "execution_count": null,
   "metadata": {},
   "outputs": [],
   "source": [
    "events, events_dict = mne.events_from_annotations(raw)"
   ]
  },
  {
   "cell_type": "code",
   "execution_count": 1,
   "metadata": {},
   "outputs": [
    {
     "name": "stdout",
     "output_type": "stream",
     "text": [
      "Reading /Users/payamsadeghishabestari/antinomics_clean_codes/subjects/zdfy/EEG/rest_v1/epochs-eo-epo.fif ...\n",
      "    Read a total of 1 projection items:\n",
      "        Average EEG reference (1 x 59) active\n",
      "    Found the data of interest:\n",
      "        t =       0.00 ...    1996.00 ms\n",
      "        0 CTF compensation matrices available\n",
      "Not setting metadata\n",
      "114 matching events found\n",
      "No baseline correction applied\n",
      "Created an SSP operator (subspace dimension = 1)\n",
      "1 projection items activated\n",
      "Reading /Users/payamsadeghishabestari/antinomics_clean_codes/subjects/zdfy/EEG/rest_v1/epochs-ec-epo.fif ...\n",
      "    Read a total of 1 projection items:\n",
      "        Average EEG reference (1 x 59) active\n",
      "    Found the data of interest:\n",
      "        t =       0.00 ...    1996.00 ms\n",
      "        0 CTF compensation matrices available\n",
      "Not setting metadata\n",
      "143 matching events found\n",
      "No baseline correction applied\n",
      "Created an SSP operator (subspace dimension = 1)\n",
      "1 projection items activated\n"
     ]
    }
   ],
   "source": [
    "import mne\n",
    "epochs_fnames = [\"/Users/payamsadeghishabestari/antinomics_clean_codes/subjects/zdfy/EEG/rest_v1/epochs-eo-epo.fif\",\n",
    "                \"/Users/payamsadeghishabestari/antinomics_clean_codes/subjects/zdfy/EEG/rest_v1/epochs-ec-epo.fif\"]\n",
    "\n",
    "epochs, eye_labels = [], []\n",
    "for ep_fname, title in zip(epochs_fnames, [\"open\", \"close\"]):\n",
    "    eps = mne.read_epochs(ep_fname, preload=True)\n",
    "    eps.drop_bad()\n",
    "    epochs.append(eps)\n",
    "    eye_labels += len(eps) * [title]"
   ]
  },
  {
   "cell_type": "code",
   "execution_count": 2,
   "metadata": {},
   "outputs": [
    {
     "name": "stdout",
     "output_type": "stream",
     "text": [
      "Not setting metadata\n",
      "257 matching events found\n",
      "No baseline correction applied\n",
      "Created an SSP operator (subspace dimension = 1)\n"
     ]
    },
    {
     "name": "stderr",
     "output_type": "stream",
     "text": [
      "/var/folders/20/hsy69tx529ndn3rkv5gzcf0c0000gn/T/ipykernel_1662/2336604168.py:1: RuntimeWarning: Concatenation of Annotations within Epochs is not supported yet. All annotations will be dropped.\n",
      "  epochs = mne.concatenate_epochs(epochs)\n"
     ]
    }
   ],
   "source": [
    "epochs = mne.concatenate_epochs(epochs)"
   ]
  },
  {
   "cell_type": "code",
   "execution_count": 3,
   "metadata": {},
   "outputs": [
    {
     "name": "stderr",
     "output_type": "stream",
     "text": [
      "/Users/payamsadeghishabestari/virtual_envs/.venv/lib/python3.10/site-packages/pandas/core/arrays/masked.py:60: UserWarning: Pandas requires version '1.3.6' or newer of 'bottleneck' (version '1.3.5' currently installed).\n",
      "  from pandas.core import (\n"
     ]
    }
   ],
   "source": [
    "import numpy as np\n",
    "import mne_features"
   ]
  },
  {
   "cell_type": "code",
   "execution_count": null,
   "metadata": {},
   "outputs": [],
   "source": [
    "def compute_sensor_band_power(epochs):\n",
    "    \"\"\"\n",
    "    \"\"\"\n",
    "    freq_bands = {\n",
    "                    \"delta\": (0.5, 4),\n",
    "                    \"theta\": (4, 8),\n",
    "                    \"alpha\": (8, 13),\n",
    "                    \"beta\": (13, 30),\n",
    "                    \"lower_gamma\": (30, 45),\n",
    "                    \"upper_gamma\": (45, 80)\n",
    "                    }\n",
    "    \n",
    "    psds, freqs = epochs.compute_psd(method=\"multitaper\",\n",
    "                                    picks=\"eeg\",\n",
    "                                    fmin=freq_bands[\"delta\"][0],\n",
    "                                    fmax=freq_bands[\"upper_gamma\"][1],\n",
    "                                    ).get_data(return_freqs=True)\n",
    "    psds /= np.sum(psds, axis=-1, keepdims=True)  # normalize the PSDs\n",
    "    ep_psds = []\n",
    "    for fmin, fmax in freq_bands.values():\n",
    "        psds_band = psds[:, :, (freqs >= fmin) & (freqs < fmax)].mean(axis=-1)\n",
    "        ep_psds.append(psds_band)\n",
    "    \n",
    "\n",
    "    return np.array(ep_psds).transpose(1, 2, 0)"
   ]
  },
  {
   "cell_type": "code",
   "execution_count": 7,
   "metadata": {},
   "outputs": [],
   "source": [
    "freq_bands = {\n",
    "                \"delta\": (0.5, 4),\n",
    "                \"theta\": (4, 8),\n",
    "                \"alpha\": (8, 13),\n",
    "                \"beta\": (13, 30),\n",
    "                \"lower_gamma\": (30, 45),\n",
    "                \"upper_gamma\": (45, 80)\n",
    "                }\n",
    "\n",
    "\n",
    "\n",
    "epochs.pick(\"eeg\")\n",
    "funcs_params = {\n",
    "                    \"pow_freq_bands__freq_bands\": freq_bands,\n",
    "                    \"pow_freq_bands__psd_method\": \"multitaper\",\n",
    "                    \"pow_freq_bands__normalize\": True\n",
    "                    } \n",
    "\n",
    "powers = mne_features.feature_extraction.extract_features(epochs.get_data(),\n",
    "                                                epochs.info[\"sfreq\"],\n",
    "                                                selected_funcs=[\"pow_freq_bands\"],\n",
    "                                                funcs_params=funcs_params,\n",
    "                                                ch_names=epochs.info[\"ch_names\"]\n",
    "                                                )"
   ]
  },
  {
   "cell_type": "code",
   "execution_count": 19,
   "metadata": {},
   "outputs": [],
   "source": [
    "n_chs = len(epochs.info[\"ch_names\"])\n",
    "n_freq_bands = len(freq_bands.keys())\n",
    "powers_reshaped = powers.reshape(len(epochs), n_chs, n_freq_bands)"
   ]
  },
  {
   "cell_type": "code",
   "execution_count": 22,
   "metadata": {},
   "outputs": [],
   "source": [
    "columns = [f\"ch_{j}_freq_{k}\" for j in epochs.info[\"ch_names\"] for k in freq_bands]"
   ]
  },
  {
   "cell_type": "code",
   "execution_count": null,
   "metadata": {},
   "outputs": [],
   "source": [
    "df = pd.DataFrame(powers_reshaped, columns=columns)"
   ]
  },
  {
   "cell_type": "code",
   "execution_count": 51,
   "metadata": {},
   "outputs": [],
   "source": [
    "hurst = mne_features.feature_extraction.extract_features(epochs.get_data(),\n",
    "                                                epochs.info[\"sfreq\"],\n",
    "                                                selected_funcs=[\"spect_slope\"],\n",
    "                                                funcs_params=None,\n",
    "                                                ch_names=epochs.info[\"ch_names\"]\n",
    "                                                )"
   ]
  },
  {
   "cell_type": "code",
   "execution_count": 52,
   "metadata": {},
   "outputs": [],
   "source": [
    "y = hurst.reshape(len(epochs), n_chs, 4)[:,:,:2] # intercept and slope"
   ]
  },
  {
   "cell_type": "code",
   "execution_count": 53,
   "metadata": {},
   "outputs": [
    {
     "data": {
      "text/plain": [
       "(257, 59, 2)"
      ]
     },
     "execution_count": 53,
     "metadata": {},
     "output_type": "execute_result"
    }
   ],
   "source": [
    "y.shape"
   ]
  },
  {
   "cell_type": "code",
   "execution_count": 44,
   "metadata": {},
   "outputs": [],
   "source": [
    "x = hurst.reshape(len(epochs), n_chs, 4)[:,:,:2]"
   ]
  },
  {
   "cell_type": "code",
   "execution_count": 47,
   "metadata": {},
   "outputs": [],
   "source": [
    "x = x.reshape(257, 118)"
   ]
  },
  {
   "cell_type": "code",
   "execution_count": 49,
   "metadata": {},
   "outputs": [
    {
     "data": {
      "text/plain": [
       "array([[ True,  True, False, ..., False, False, False],\n",
       "       [ True,  True, False, ..., False, False, False],\n",
       "       [ True,  True, False, ..., False, False, False],\n",
       "       ...,\n",
       "       [ True,  True, False, ..., False, False, False],\n",
       "       [ True,  True, False, ..., False, False, False],\n",
       "       [ True,  True, False, ..., False, False, False]])"
      ]
     },
     "execution_count": 49,
     "metadata": {},
     "output_type": "execute_result"
    }
   ],
   "source": [
    "x == hurst[:, :118]"
   ]
  },
  {
   "cell_type": "code",
   "execution_count": null,
   "metadata": {},
   "outputs": [],
   "source": [
    "freq_bands = {\n",
    "            \"delta\": (0.5, 4),\n",
    "            \"theta\": (4, 8),\n",
    "            \"alpha\": (8, 13),\n",
    "            \"beta\": (13, 30),\n",
    "            \"lower_gamma\": (30, 45),\n",
    "            \"upper_gamma\": (45, 80)\n",
    "            }\n",
    "\n",
    "psds, freqs = epochs.compute_psd(method=\"multitaper\",\n",
    "                                    picks=\"eeg\",\n",
    "                                    fmin=freq_bands[\"delta\"][0],\n",
    "                                    fmax=freq_bands[\"upper_gamma\"][1],\n",
    "                                    ).get_data(return_freqs=True)"
   ]
  },
  {
   "cell_type": "code",
   "execution_count": null,
   "metadata": {},
   "outputs": [],
   "source": [
    "psds.shape"
   ]
  },
  {
   "cell_type": "code",
   "execution_count": null,
   "metadata": {},
   "outputs": [],
   "source": [
    "X"
   ]
  }
 ],
 "metadata": {
  "kernelspec": {
   "display_name": "Python 3",
   "language": "python",
   "name": "python3"
  },
  "language_info": {
   "codemirror_mode": {
    "name": "ipython",
    "version": 3
   },
   "file_extension": ".py",
   "mimetype": "text/x-python",
   "name": "python",
   "nbconvert_exporter": "python",
   "pygments_lexer": "ipython3",
   "version": "3.10.9"
  }
 },
 "nbformat": 4,
 "nbformat_minor": 2
}
