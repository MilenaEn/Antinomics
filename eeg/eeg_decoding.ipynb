{
 "cells": [
  {
   "cell_type": "code",
   "execution_count": 17,
   "metadata": {},
   "outputs": [],
   "source": [
    "%matplotlib qt\n",
    "from pathlib import Path\n",
    "import numpy as np\n",
    "import matplotlib.pyplot as plt\n",
    "import mne"
   ]
  },
  {
   "cell_type": "code",
   "execution_count": null,
   "metadata": {},
   "outputs": [
    {
     "name": "stdout",
     "output_type": "stream",
     "text": [
      "Extracting parameters from /Users/payamsadeghishabestari/antinomics_clean_codes/subjects/dvob/EEG/regularity/dvob_regularity.vhdr...\n",
      "Setting channel info structure...\n",
      "Reading 0 ... 2210759  =      0.000 ...  2210.759 secs...\n"
     ]
    },
    {
     "name": "stderr",
     "output_type": "stream",
     "text": [
      "/var/folders/20/hsy69tx529ndn3rkv5gzcf0c0000gn/T/ipykernel_3386/2842641597.py:2: RuntimeWarning: No coordinate information found for channels ['X', 'Y', 'Z', 'Photo', 'Audio']. Setting channel types to misc. To avoid this warning, set channel types explicitly.\n",
      "  raw = mne.io.read_raw_brainvision(fname, preload=True)\n",
      "/var/folders/20/hsy69tx529ndn3rkv5gzcf0c0000gn/T/ipykernel_3386/2842641597.py:2: RuntimeWarning: Not setting positions of 8 misc channels found in montage:\n",
      "['Pulse', 'GSR', 'X', 'Y', 'Z', 'Resp', 'Photo', 'Audio']\n",
      "Consider setting the channel types to be of EEG/sEEG/ECoG/DBS/fNIRS using inst.set_channel_types before calling inst.set_montage, or omit these channels when creating your montage.\n",
      "  raw = mne.io.read_raw_brainvision(fname, preload=True)\n"
     ]
    }
   ],
   "source": [
    "fname = Path.cwd().parent\n",
    "fname = \"/Users/payamsadeghishabestari/antinomics_clean_codes/subjects/dvob/EEG/regularity/dvob_regularity.vhdr\"\n",
    "raw = mne.io.read_raw_brainvision(fname, preload=True)"
   ]
  },
  {
   "cell_type": "code",
   "execution_count": null,
   "metadata": {},
   "outputs": [
    {
     "name": "stdout",
     "output_type": "stream",
     "text": [
      "Extracting parameters from /Users/payamsadeghishabestari/antinomics_clean_codes/subjects/dvob/EEG/regularity/dvob_regularity.vhdr...\n",
      "Setting channel info structure...\n",
      "Reading 0 ... 2210759  =      0.000 ...  2210.759 secs...\n"
     ]
    },
    {
     "name": "stderr",
     "output_type": "stream",
     "text": [
      "/var/folders/20/hsy69tx529ndn3rkv5gzcf0c0000gn/T/ipykernel_3386/2626081921.py:3: RuntimeWarning: No coordinate information found for channels ['X', 'Y', 'Z', 'Photo', 'Audio']. Setting channel types to misc. To avoid this warning, set channel types explicitly.\n",
      "  raw = mne.io.read_raw_brainvision(fname, preload=True)\n",
      "/var/folders/20/hsy69tx529ndn3rkv5gzcf0c0000gn/T/ipykernel_3386/2626081921.py:3: RuntimeWarning: Not setting positions of 8 misc channels found in montage:\n",
      "['Pulse', 'GSR', 'X', 'Y', 'Z', 'Resp', 'Photo', 'Audio']\n",
      "Consider setting the channel types to be of EEG/sEEG/ECoG/DBS/fNIRS using inst.set_channel_types before calling inst.set_montage, or omit these channels when creating your montage.\n",
      "  raw = mne.io.read_raw_brainvision(fname, preload=True)\n"
     ]
    },
    {
     "name": "stdout",
     "output_type": "stream",
     "text": [
      "Used Annotations descriptions: ['New Segment/', 'Stimulus/S  1', 'Stimulus/S  2', 'Stimulus/S  3', 'Stimulus/S  4', 'Stimulus/S  5', 'Stimulus/S  6', 'Stimulus/S  7', 'Stimulus/S  8', 'Stimulus/S 11', 'Stimulus/S 12', 'Stimulus/S 13', 'Stimulus/S 14', 'Stimulus/S 15', 'Stimulus/S 16', 'Stimulus/S 17', 'Stimulus/S 18', 'Stimulus/S140']\n"
     ]
    }
   ],
   "source": [
    "## read data\n",
    "subject_id = \"dvob\"\n",
    "fname = Path.cwd().parent.parent.parent / \"subjects\" / subject_id / \"EEG\" / \"regularity\" / f\"{subject_id}_regularity.vhdr\"\n",
    "raw = mne.io.read_raw_brainvision(fname, preload=True)\n",
    "raw.resample(250)\n",
    "\n",
    "## get events and create blocks\n",
    "diff_thr = 750\n",
    "events, events_dict = mne.events_from_annotations(raw)\n",
    "events_orig = events.copy() # better to keep the original\n",
    "ev_ids = [i for i in range(1, 19) if i not in (9, 10)]\n",
    "events = events[np.isin(events[:, -1], ev_ids)]\n",
    "split_indices = np.where(np.diff(events[:, 0]) > diff_thr)[0] + 1\n",
    "blocks = np.split(events, split_indices)\n",
    "\n",
    "## check balancing\n",
    "for block_idx, block in enumerate(blocks):\n",
    "    assert len(block) == 500, f\"Number of triggers in block {block_idx + 1} is {len(block)}, must be 500.\" \n",
    "\n",
    "\n",
    "## concatenating similar blocks\n",
    "std_ord_block_idxs = [0, 2, 4]\n",
    "std_rnd_block_idxs = [1, 3, 5]\n",
    "tin_ord_block_idxs = [6, 8, 10]\n",
    "tin_rnd_block_idxs = [7, 9, 11]\n",
    "\n",
    "first_event = [0, 0, 99999] \n",
    "blocks_dict = {}\n",
    "for block_idxs, title in zip([std_ord_block_idxs, std_rnd_block_idxs, \\\n",
    "                                tin_ord_block_idxs, tin_rnd_block_idxs], \\\n",
    "                                [\"std_ord\", \"std_rnd\", \"tin_ord\", \"tin_rnd\"]):  \n",
    "    \n",
    "    blocks_dict[title] = np.concatenate(\n",
    "                                        [blocks[i] for i in block_idxs]\n",
    "                                        )\n",
    "    blocks_dict[title] = np.insert(blocks_dict[title], 0, first_event, axis=0)\n",
    "    \n",
    "\n",
    "\n",
    "## entropy level decoding\n",
    "## 4 targets std_or, std_rnd, tin_or, tin_rnd\n",
    "## so here all epochs X, y (not important which frequency they are, finally y should be shape (,4))\n",
    "\n",
    "\n",
    "## sound-to-sound decoding\n",
    "## 4 targets, no matter which block... (y should be again (,4))\n",
    "\n",
    "\n",
    "## binary classification for 2 groups\n",
    "\n",
    "\n",
    "## some plots\n",
    "\n",
    "## source\n",
    "\n",
    "\n",
    "\n",
    "## 4 targets, f1, f2, f3, f4 of standard -> clf_std trained on rnd ones (blocks 1, 3, 5)\n",
    "## 4 targets, f1, f2, f3, f4 of tinnitus -> clf_tin trained on rnd ones (blocks 7, 9, 11)\n",
    "\n"
   ]
  },
  {
   "cell_type": "code",
   "execution_count": null,
   "metadata": {},
   "outputs": [
    {
     "name": "stdout",
     "output_type": "stream",
     "text": [
      "[5 6 7 8]\n",
      "[39 32 25 30]\n"
     ]
    },
    {
     "data": {
      "text/plain": [
       "100"
      ]
     },
     "execution_count": 112,
     "metadata": {},
     "output_type": "execute_result"
    }
   ],
   "source": [
    "ev_id = 8\n",
    "\n",
    "indices_of_carrier = np.where(blocks[1][:, -1] == ev_id)[0]\n",
    "selected_events = blocks[1][indices_of_carrier - 1]\n",
    "unique, counts = np.unique(selected_events[:, 2], return_counts=True)\n",
    "print(unique)\n",
    "print(counts)\n",
    "counts_dict = dict(zip(unique, counts))\n",
    "min_count = min(counts_dict.values()) # the minimum count to balance\n",
    "\n",
    "# Randomly downsample each trial type to the minimum count\n",
    "balanced_indices = []\n",
    "for trial_id in unique:\n",
    "    trial_indices = np.where(selected_events == ev_id)[0]\n",
    "    selected = np.random.choice(trial_indices, min_count, replace=False)\n",
    "    balanced_indices.extend(indices_of_carrier[selected - 1])\n",
    "\n",
    "len(blocks[1][balanced_indices])"
   ]
  },
  {
   "cell_type": "code",
   "execution_count": 127,
   "metadata": {},
   "outputs": [],
   "source": [
    "sample_events = blocks_dict[\"std_rnd\"]"
   ]
  },
  {
   "cell_type": "code",
   "execution_count": 128,
   "metadata": {},
   "outputs": [
    {
     "data": {
      "text/plain": [
       "array([[     0,      0,  99999],\n",
       "       [ 56350,      0,      8],\n",
       "       [ 56434,      0,      7],\n",
       "       ...,\n",
       "       [277285,      0,      7],\n",
       "       [277368,      0,      5],\n",
       "       [277452,      0,      8]])"
      ]
     },
     "execution_count": 128,
     "metadata": {},
     "output_type": "execute_result"
    }
   ],
   "source": [
    "sample_events"
   ]
  },
  {
   "cell_type": "code",
   "execution_count": null,
   "metadata": {},
   "outputs": [
    {
     "name": "stdout",
     "output_type": "stream",
     "text": [
      "[5 6 7 8] [79 83 94 93]\n"
     ]
    },
    {
     "data": {
      "text/plain": [
       "79"
      ]
     },
     "execution_count": 144,
     "metadata": {},
     "output_type": "execute_result"
    }
   ],
   "source": [
    "ev_id = 7\n",
    "\n",
    "indices_of_carrier = np.where(sample_events[:, -1] == ev_id)[0]\n",
    "selected_events = sample_events[indices_of_carrier - 1]\n",
    "unique, counts = np.unique(selected_events[:, 2], return_counts=True)\n",
    "print(unique, counts)\n",
    "min_count = min(counts) # the minimum count to balance\n",
    "\n",
    "# find min\n",
    "balanced_indices = []\n",
    "for trial_id in unique:\n",
    "    trial_indices = np.where(selected_events == trial_id)[0]\n",
    "    selected = np.random.choice(trial_indices, min_count, replace=False)\n",
    "    balanced_indices.append(indices_of_carrier[selected - 1])\n",
    "\n",
    "# equalize from beginning\n",
    "len(sample_events[balanced_indices[1]])"
   ]
  },
  {
   "cell_type": "code",
   "execution_count": null,
   "metadata": {},
   "outputs": [],
   "source": [
    "## copied from sequence generation code\n",
    "\n",
    "'''\n",
    "experiment_blocks = [\n",
    "    (\"Standard Orderly 1\", standard_orderly_blocks[0]),\n",
    "    (\"Standard Random 1\", standard_random_blocks[0]),\n",
    "    (\"Standard Orderly 2\", standard_orderly_blocks[1]),\n",
    "    (\"Standard Random 2\", standard_random_blocks[1]),\n",
    "    (\"Standard Orderly 3\", standard_orderly_blocks[2]),\n",
    "    (\"Standard Random 3\", standard_random_blocks[2]),\n",
    "    (\"Custom Orderly 1\", custom_orderly_blocks[0]),\n",
    "    (\"Custom Random 1\", custom_random_blocks[0]),\n",
    "    (\"Custom Orderly 2\", custom_orderly_blocks[1]),\n",
    "    (\"Custom Random 2\", custom_random_blocks[1]),\n",
    "    (\"Custom Orderly 3\", custom_orderly_blocks[2]),\n",
    "    (\"Custom Random 3\", custom_random_blocks[2])\n",
    "]\n",
    "\n",
    "\n",
    "# Mapping of names to triggers\n",
    "trigger_dict = {\n",
    "    \"f1_std_or\": 1, \"f2_std_or\": 2, \"f3_std_or\": 3, \"f4_std_or\": 4,\n",
    "    \"f1_std_rndm\": 5, \"f2_std_rndm\": 6, \"f3_std_rndm\": 7, \"f4_std_rndm\": 8,\n",
    "    \"f1_tin_or\": 11, \"f2_tin_or\": 12, \"f3_tin_or\": 13, \"f4_tin_or\": 14,\n",
    "    \"f1_tin_rndm\": 15, \"f2_tin_rndm\": 16, \"f3_tin_rndm\": 17, \"f4_tin_rndm\": 18\n",
    "}\n",
    "'''"
   ]
  }
 ],
 "metadata": {
  "kernelspec": {
   "display_name": "Python 3",
   "language": "python",
   "name": "python3"
  },
  "language_info": {
   "codemirror_mode": {
    "name": "ipython",
    "version": 3
   },
   "file_extension": ".py",
   "mimetype": "text/x-python",
   "name": "python",
   "nbconvert_exporter": "python",
   "pygments_lexer": "ipython3",
   "version": "3.10.9"
  }
 },
 "nbformat": 4,
 "nbformat_minor": 2
}
