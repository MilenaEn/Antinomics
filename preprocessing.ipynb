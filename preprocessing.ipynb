{
 "cells": [
  {
   "cell_type": "code",
   "execution_count": null,
   "metadata": {},
   "outputs": [],
   "source": [
    "%matplotlib qt\n",
    "import os\n",
    "from pathlib import Path\n",
    "import matplotlib.pyplot as plt\n",
    "from tqdm import tqdm\n",
    "from mne.io import read_raw_brainvision, read_raw_fif\n",
    "\n",
    "from scipy.signal import find_peaks\n",
    "import numpy as np\n",
    "from mne.channels import read_dig_captrak, make_standard_montage\n",
    "from mne.preprocessing import ICA\n",
    "from mne_icalabel import label_components\n",
    "import customtkinter as ctk\n",
    "from mne.coreg import Coregistration\n",
    "from mne import (open_report, events_from_annotations, Epochs, write_trans,\n",
    "                setup_source_space, make_bem_model, make_bem_solution, make_forward_solution, compute_covariance,\n",
    "                extract_label_time_course, read_labels_from_annot)\n",
    "from mne.minimum_norm import make_inverse_operator, apply_inverse\n",
    "from mne.datasets import fetch_fsaverage\n",
    "from scipy.signal import find_peaks\n",
    "import warnings\n",
    "from mne.preprocessing import ICA, EOGRegression, create_eog_epochs, create_ecg_epochs, compute_proj_ecg, compute_proj_eog, EOGRegression"
   ]
  },
  {
   "cell_type": "code",
   "execution_count": null,
   "metadata": {},
   "outputs": [],
   "source": [
    "%%latex\n",
    "##### for preprocessing()\n",
    "## ask philip where is PO7, PO8, O1 and O2 and adjust it here\n",
    "## put these cahnnels as misc and see what we can do with it\n",
    "## kernel crash when running ctk\n",
    "## ssp for ecg (pulse)\n",
    "## ssp for vertical eye\n",
    "## regression for horizontal eye\n",
    "## .load_data()\n",
    "## add teas\n",
    "## GSR, X, Y, Y drop\n",
    "## rename y-axis in pulse plot maybe *1e9 and time shows\n",
    "## mne.preprocessing.annotate_break\n",
    "## interpolate bads (mne.preprocessing.find_bad_channels_lof)\n",
    "\n",
    "\n",
    "\n",
    "##### for run_analysis()\n",
    "## in gpias dont do baselining\n",
    "## double check with repo codes\n",
    "## ask gpias triggers code\n",
    "## documenatiaion\n",
    "## "
   ]
  },
  {
   "cell_type": "code",
   "execution_count": 3,
   "metadata": {},
   "outputs": [
    {
     "ename": "ModuleNotFoundError",
     "evalue": "No module named 'eeg_processing'",
     "output_type": "error",
     "traceback": [
      "\u001b[0;31m---------------------------------------------------------------------------\u001b[0m",
      "\u001b[0;31mModuleNotFoundError\u001b[0m                       Traceback (most recent call last)",
      "Cell \u001b[0;32mIn[3], line 2\u001b[0m\n\u001b[1;32m      1\u001b[0m get_ipython()\u001b[38;5;241m.\u001b[39mrun_line_magic(\u001b[38;5;124m'\u001b[39m\u001b[38;5;124mmatplotlib\u001b[39m\u001b[38;5;124m'\u001b[39m, \u001b[38;5;124m'\u001b[39m\u001b[38;5;124mqt\u001b[39m\u001b[38;5;124m'\u001b[39m)\n\u001b[0;32m----> 2\u001b[0m \u001b[38;5;28;01mfrom\u001b[39;00m \u001b[38;5;21;01meeg_processing\u001b[39;00m \u001b[38;5;28;01mimport\u001b[39;00m preprocessing\n\u001b[1;32m      3\u001b[0m preprocessing(subject_id\u001b[38;5;241m=\u001b[39m\u001b[38;5;124m\"\u001b[39m\u001b[38;5;124mzdfy\u001b[39m\u001b[38;5;124m\"\u001b[39m,\n\u001b[1;32m      4\u001b[0m                 subjects_dir\u001b[38;5;241m=\u001b[39m\u001b[38;5;124m\"\u001b[39m\u001b[38;5;124m/Users/payamsadeghishabestari/antinomics_clean_codes/subjects\u001b[39m\u001b[38;5;124m\"\u001b[39m,\n\u001b[1;32m      5\u001b[0m                 paradigm\u001b[38;5;241m=\u001b[39m\u001b[38;5;124m\"\u001b[39m\u001b[38;5;124mgpias\u001b[39m\u001b[38;5;124m\"\u001b[39m,\n\u001b[0;32m   (...)\u001b[0m\n\u001b[1;32m     13\u001b[0m                 saving_dir\u001b[38;5;241m=\u001b[39m\u001b[38;5;28;01mNone\u001b[39;00m,\n\u001b[1;32m     14\u001b[0m                 verbose\u001b[38;5;241m=\u001b[39m\u001b[38;5;124m\"\u001b[39m\u001b[38;5;124mERROR\u001b[39m\u001b[38;5;124m\"\u001b[39m)\n",
      "\u001b[0;31mModuleNotFoundError\u001b[0m: No module named 'eeg_processing'"
     ]
    }
   ],
   "source": [
    "%matplotlib qt\n",
    "from eeg_processing import preprocessing\n",
    "preprocessing(subject_id=\"zdfy\",\n",
    "                subjects_dir=\"/Users/payamsadeghishabestari/antinomics_clean_codes/subjects\",\n",
    "                paradigm=\"gpias\",\n",
    "                manual_data_scroll=True,\n",
    "                run_ica=False,\n",
    "                manual_ica_removal=False,\n",
    "                eog_correct=True,\n",
    "                pulse_correct=True,\n",
    "                resp_correct=False,\n",
    "                create_report=True,\n",
    "                saving_dir=None,\n",
    "                verbose=\"ERROR\")"
   ]
  },
  {
   "cell_type": "code",
   "execution_count": null,
   "metadata": {},
   "outputs": [],
   "source": [
    "%matplotlib qt\n",
    "from eeg_rs_processing import run_rs_analysis\n",
    "\n",
    "run_rs_analysis(\n",
    "        subject_id=\"zdfy\",\n",
    "        subjects_dir=\"/Users/payamsadeghishabestari/antinomics_clean_codes/subjects\",\n",
    "        visit=1,\n",
    "        event_ids=None,\n",
    "        source_analysis=True,\n",
    "        mri=False,\n",
    "        subjects_fs_dir=None,\n",
    "        manual_data_scroll=False,\n",
    "        create_report=True,\n",
    "        saving_dir=None,\n",
    "        verbose=\"ERROR\"\n",
    "        )\n"
   ]
  },
  {
   "cell_type": "code",
   "execution_count": 2,
   "metadata": {},
   "outputs": [
    {
     "name": "stderr",
     "output_type": "stream",
     "text": [
      " 20%|\u001b[36m█████████                                    \u001b[0m"
     ]
    },
    {
     "name": "stdout",
     "output_type": "stream",
     "text": [
      "Loading preprocessed EEG data ...\n",
      "\n"
     ]
    },
    {
     "ename": "FileNotFoundError",
     "evalue": "fname does not exist: \"/Users/payamsadeghishabestari/antinomics_clean_codes/subjects/zdfy/EEG/gpias/raw_prep.fif\"",
     "output_type": "error",
     "traceback": [
      "\u001b[0;31m---------------------------------------------------------------------------\u001b[0m",
      "\u001b[0;31mFileNotFoundError\u001b[0m                         Traceback (most recent call last)",
      "Cell \u001b[0;32mIn[2], line 4\u001b[0m\n\u001b[1;32m      1\u001b[0m get_ipython()\u001b[38;5;241m.\u001b[39mrun_line_magic(\u001b[38;5;124m'\u001b[39m\u001b[38;5;124mmatplotlib\u001b[39m\u001b[38;5;124m'\u001b[39m, \u001b[38;5;124m'\u001b[39m\u001b[38;5;124mqt\u001b[39m\u001b[38;5;124m'\u001b[39m)\n\u001b[1;32m      2\u001b[0m \u001b[38;5;28;01mfrom\u001b[39;00m \u001b[38;5;21;01meeg_erp_processing\u001b[39;00m \u001b[38;5;28;01mimport\u001b[39;00m run_erp_analysis\n\u001b[0;32m----> 4\u001b[0m \u001b[43mrun_erp_analysis\u001b[49m\u001b[43m(\u001b[49m\n\u001b[1;32m      5\u001b[0m \u001b[43m        \u001b[49m\u001b[43msubject_id\u001b[49m\u001b[38;5;241;43m=\u001b[39;49m\u001b[38;5;124;43m\"\u001b[39;49m\u001b[38;5;124;43mzdfy\u001b[39;49m\u001b[38;5;124;43m\"\u001b[39;49m\u001b[43m,\u001b[49m\n\u001b[1;32m      6\u001b[0m \u001b[43m        \u001b[49m\u001b[43msubjects_dir\u001b[49m\u001b[38;5;241;43m=\u001b[39;49m\u001b[38;5;124;43m\"\u001b[39;49m\u001b[38;5;124;43m/Users/payamsadeghishabestari/antinomics_clean_codes/subjects\u001b[39;49m\u001b[38;5;124;43m\"\u001b[39;49m\u001b[43m,\u001b[49m\n\u001b[1;32m      7\u001b[0m \u001b[43m        \u001b[49m\u001b[43mparadigm\u001b[49m\u001b[38;5;241;43m=\u001b[39;49m\u001b[38;5;124;43m\"\u001b[39;49m\u001b[38;5;124;43mgpias\u001b[39;49m\u001b[38;5;124;43m\"\u001b[39;49m\u001b[43m,\u001b[49m\n\u001b[1;32m      8\u001b[0m \u001b[43m        \u001b[49m\u001b[43mevents\u001b[49m\u001b[38;5;241;43m=\u001b[39;49m\u001b[38;5;28;43;01mNone\u001b[39;49;00m\u001b[43m,\u001b[49m\n\u001b[1;32m      9\u001b[0m \u001b[43m        \u001b[49m\u001b[43msource_analysis\u001b[49m\u001b[38;5;241;43m=\u001b[39;49m\u001b[38;5;28;43;01mTrue\u001b[39;49;00m\u001b[43m,\u001b[49m\n\u001b[1;32m     10\u001b[0m \u001b[43m        \u001b[49m\u001b[43mmri\u001b[49m\u001b[38;5;241;43m=\u001b[39;49m\u001b[38;5;28;43;01mFalse\u001b[39;49;00m\u001b[43m,\u001b[49m\n\u001b[1;32m     11\u001b[0m \u001b[43m        \u001b[49m\u001b[43msubjects_fs_dir\u001b[49m\u001b[38;5;241;43m=\u001b[39;49m\u001b[38;5;28;43;01mNone\u001b[39;49;00m\u001b[43m,\u001b[49m\n\u001b[1;32m     12\u001b[0m \u001b[43m        \u001b[49m\u001b[43mmanual_data_scroll\u001b[49m\u001b[38;5;241;43m=\u001b[39;49m\u001b[38;5;28;43;01mFalse\u001b[39;49;00m\u001b[43m,\u001b[49m\n\u001b[1;32m     13\u001b[0m \u001b[43m        \u001b[49m\u001b[43mcreate_report\u001b[49m\u001b[38;5;241;43m=\u001b[39;49m\u001b[38;5;28;43;01mTrue\u001b[39;49;00m\u001b[43m,\u001b[49m\n\u001b[1;32m     14\u001b[0m \u001b[43m        \u001b[49m\u001b[43msaving_dir\u001b[49m\u001b[38;5;241;43m=\u001b[39;49m\u001b[38;5;28;43;01mNone\u001b[39;49;00m\u001b[43m,\u001b[49m\n\u001b[1;32m     15\u001b[0m \u001b[43m        \u001b[49m\u001b[43mverbose\u001b[49m\u001b[38;5;241;43m=\u001b[39;49m\u001b[38;5;124;43m\"\u001b[39;49m\u001b[38;5;124;43mERROR\u001b[39;49m\u001b[38;5;124;43m\"\u001b[39;49m\n\u001b[1;32m     16\u001b[0m \u001b[43m        \u001b[49m\u001b[43m)\u001b[49m\n",
      "File \u001b[0;32m~/antinomics_clean_codes/codes/codes/eeg_erp_processing.py:117\u001b[0m, in \u001b[0;36mrun_erp_analysis\u001b[0;34m(subject_id, subjects_dir, paradigm, source_analysis, events, mri, subjects_fs_dir, manual_data_scroll, create_report, saving_dir, verbose)\u001b[0m\n\u001b[1;32m    114\u001b[0m     subjects_fs_dir \u001b[38;5;241m=\u001b[39m \u001b[38;5;124m\"\u001b[39m\u001b[38;5;124m/Applications/freesurfer/7.4.1/subjects\u001b[39m\u001b[38;5;124m\"\u001b[39m\n\u001b[1;32m    116\u001b[0m fname \u001b[38;5;241m=\u001b[39m subjects_dir \u001b[38;5;241m/\u001b[39m subject_id \u001b[38;5;241m/\u001b[39m \u001b[38;5;124m\"\u001b[39m\u001b[38;5;124mEEG\u001b[39m\u001b[38;5;124m\"\u001b[39m \u001b[38;5;241m/\u001b[39m paradigm \u001b[38;5;241m/\u001b[39m \u001b[38;5;124m\"\u001b[39m\u001b[38;5;124mraw_prep.fif\u001b[39m\u001b[38;5;124m\"\u001b[39m\n\u001b[0;32m--> 117\u001b[0m raw \u001b[38;5;241m=\u001b[39m read_raw_fif(fname, preload\u001b[38;5;241m=\u001b[39m\u001b[38;5;28;01mTrue\u001b[39;00m)\n\u001b[1;32m    118\u001b[0m info \u001b[38;5;241m=\u001b[39m raw\u001b[38;5;241m.\u001b[39minfo\n\u001b[1;32m    120\u001b[0m \u001b[38;5;66;03m## check paradigms\u001b[39;00m\n",
      "File \u001b[0;32m~/virtual_envs/.venv/lib/python3.10/site-packages/mne/io/fiff/raw.py:532\u001b[0m, in \u001b[0;36mread_raw_fif\u001b[0;34m(fname, allow_maxshield, preload, on_split_missing, verbose)\u001b[0m\n\u001b[1;32m    491\u001b[0m \u001b[38;5;129m@fill_doc\u001b[39m\n\u001b[1;32m    492\u001b[0m \u001b[38;5;28;01mdef\u001b[39;00m \u001b[38;5;21mread_raw_fif\u001b[39m(\n\u001b[1;32m    493\u001b[0m     fname, allow_maxshield\u001b[38;5;241m=\u001b[39m\u001b[38;5;28;01mFalse\u001b[39;00m, preload\u001b[38;5;241m=\u001b[39m\u001b[38;5;28;01mFalse\u001b[39;00m, on_split_missing\u001b[38;5;241m=\u001b[39m\u001b[38;5;124m\"\u001b[39m\u001b[38;5;124mraise\u001b[39m\u001b[38;5;124m\"\u001b[39m, verbose\u001b[38;5;241m=\u001b[39m\u001b[38;5;28;01mNone\u001b[39;00m\n\u001b[1;32m    494\u001b[0m ) \u001b[38;5;241m-\u001b[39m\u001b[38;5;241m>\u001b[39m Raw:\n\u001b[1;32m    495\u001b[0m \u001b[38;5;250m    \u001b[39m\u001b[38;5;124;03m\"\"\"Reader function for Raw FIF data.\u001b[39;00m\n\u001b[1;32m    496\u001b[0m \n\u001b[1;32m    497\u001b[0m \u001b[38;5;124;03m    Parameters\u001b[39;00m\n\u001b[0;32m   (...)\u001b[0m\n\u001b[1;32m    530\u001b[0m \u001b[38;5;124;03m    are updated accordingly.\u001b[39;00m\n\u001b[1;32m    531\u001b[0m \u001b[38;5;124;03m    \"\"\"\u001b[39;00m\n\u001b[0;32m--> 532\u001b[0m     \u001b[38;5;28;01mreturn\u001b[39;00m \u001b[43mRaw\u001b[49m\u001b[43m(\u001b[49m\n\u001b[1;32m    533\u001b[0m \u001b[43m        \u001b[49m\u001b[43mfname\u001b[49m\u001b[38;5;241;43m=\u001b[39;49m\u001b[43mfname\u001b[49m\u001b[43m,\u001b[49m\n\u001b[1;32m    534\u001b[0m \u001b[43m        \u001b[49m\u001b[43mallow_maxshield\u001b[49m\u001b[38;5;241;43m=\u001b[39;49m\u001b[43mallow_maxshield\u001b[49m\u001b[43m,\u001b[49m\n\u001b[1;32m    535\u001b[0m \u001b[43m        \u001b[49m\u001b[43mpreload\u001b[49m\u001b[38;5;241;43m=\u001b[39;49m\u001b[43mpreload\u001b[49m\u001b[43m,\u001b[49m\n\u001b[1;32m    536\u001b[0m \u001b[43m        \u001b[49m\u001b[43mverbose\u001b[49m\u001b[38;5;241;43m=\u001b[39;49m\u001b[43mverbose\u001b[49m\u001b[43m,\u001b[49m\n\u001b[1;32m    537\u001b[0m \u001b[43m        \u001b[49m\u001b[43mon_split_missing\u001b[49m\u001b[38;5;241;43m=\u001b[39;49m\u001b[43mon_split_missing\u001b[49m\u001b[43m,\u001b[49m\n\u001b[1;32m    538\u001b[0m \u001b[43m    \u001b[49m\u001b[43m)\u001b[49m\n",
      "File \u001b[0;32m<decorator-gen-356>:12\u001b[0m, in \u001b[0;36m__init__\u001b[0;34m(self, fname, allow_maxshield, preload, on_split_missing, verbose)\u001b[0m\n",
      "File \u001b[0;32m~/virtual_envs/.venv/lib/python3.10/site-packages/mne/io/fiff/raw.py:100\u001b[0m, in \u001b[0;36mRaw.__init__\u001b[0;34m(self, fname, allow_maxshield, preload, on_split_missing, verbose)\u001b[0m\n\u001b[1;32m     98\u001b[0m next_fname \u001b[38;5;241m=\u001b[39m fname\n\u001b[1;32m     99\u001b[0m \u001b[38;5;28;01mwhile\u001b[39;00m next_fname \u001b[38;5;129;01mis\u001b[39;00m \u001b[38;5;129;01mnot\u001b[39;00m \u001b[38;5;28;01mNone\u001b[39;00m:\n\u001b[0;32m--> 100\u001b[0m     raw, next_fname, buffer_size_sec \u001b[38;5;241m=\u001b[39m \u001b[38;5;28;43mself\u001b[39;49m\u001b[38;5;241;43m.\u001b[39;49m\u001b[43m_read_raw_file\u001b[49m\u001b[43m(\u001b[49m\n\u001b[1;32m    101\u001b[0m \u001b[43m        \u001b[49m\u001b[43mnext_fname\u001b[49m\u001b[43m,\u001b[49m\u001b[43m \u001b[49m\u001b[43mallow_maxshield\u001b[49m\u001b[43m,\u001b[49m\u001b[43m \u001b[49m\u001b[43mpreload\u001b[49m\u001b[43m,\u001b[49m\u001b[43m \u001b[49m\u001b[43mdo_check_ext\u001b[49m\n\u001b[1;32m    102\u001b[0m \u001b[43m    \u001b[49m\u001b[43m)\u001b[49m\n\u001b[1;32m    103\u001b[0m     do_check_ext \u001b[38;5;241m=\u001b[39m \u001b[38;5;28;01mFalse\u001b[39;00m\n\u001b[1;32m    104\u001b[0m     raws\u001b[38;5;241m.\u001b[39mappend(raw)\n",
      "File \u001b[0;32m<decorator-gen-357>:12\u001b[0m, in \u001b[0;36m_read_raw_file\u001b[0;34m(self, fname, allow_maxshield, preload, do_check_ext, verbose)\u001b[0m\n",
      "File \u001b[0;32m~/virtual_envs/.venv/lib/python3.10/site-packages/mne/io/fiff/raw.py:182\u001b[0m, in \u001b[0;36mRaw._read_raw_file\u001b[0;34m(self, fname, allow_maxshield, preload, do_check_ext, verbose)\u001b[0m\n\u001b[1;32m    180\u001b[0m     check_fname(fname, \u001b[38;5;124m\"\u001b[39m\u001b[38;5;124mraw\u001b[39m\u001b[38;5;124m\"\u001b[39m, endings)\n\u001b[1;32m    181\u001b[0m \u001b[38;5;66;03m# filename\u001b[39;00m\n\u001b[0;32m--> 182\u001b[0m fname \u001b[38;5;241m=\u001b[39m \u001b[38;5;28mstr\u001b[39m(\u001b[43m_check_fname\u001b[49m\u001b[43m(\u001b[49m\u001b[43mfname\u001b[49m\u001b[43m,\u001b[49m\u001b[43m \u001b[49m\u001b[38;5;124;43m\"\u001b[39;49m\u001b[38;5;124;43mread\u001b[39;49m\u001b[38;5;124;43m\"\u001b[39;49m\u001b[43m,\u001b[49m\u001b[43m \u001b[49m\u001b[38;5;28;43;01mTrue\u001b[39;49;00m\u001b[43m,\u001b[49m\u001b[43m \u001b[49m\u001b[38;5;124;43m\"\u001b[39;49m\u001b[38;5;124;43mfname\u001b[39;49m\u001b[38;5;124;43m\"\u001b[39;49m\u001b[43m)\u001b[49m)\n\u001b[1;32m    183\u001b[0m ext \u001b[38;5;241m=\u001b[39m os\u001b[38;5;241m.\u001b[39mpath\u001b[38;5;241m.\u001b[39msplitext(fname)[\u001b[38;5;241m1\u001b[39m]\u001b[38;5;241m.\u001b[39mlower()\n\u001b[1;32m    184\u001b[0m whole_file \u001b[38;5;241m=\u001b[39m preload \u001b[38;5;28;01mif\u001b[39;00m \u001b[38;5;124m\"\u001b[39m\u001b[38;5;124m.gz\u001b[39m\u001b[38;5;124m\"\u001b[39m \u001b[38;5;129;01min\u001b[39;00m ext \u001b[38;5;28;01melse\u001b[39;00m \u001b[38;5;28;01mFalse\u001b[39;00m\n",
      "File \u001b[0;32m<decorator-gen-0>:12\u001b[0m, in \u001b[0;36m_check_fname\u001b[0;34m(fname, overwrite, must_exist, name, need_dir, check_bids_split, verbose)\u001b[0m\n",
      "File \u001b[0;32m~/virtual_envs/.venv/lib/python3.10/site-packages/mne/utils/check.py:274\u001b[0m, in \u001b[0;36m_check_fname\u001b[0;34m(fname, overwrite, must_exist, name, need_dir, check_bids_split, verbose)\u001b[0m\n\u001b[1;32m    272\u001b[0m             \u001b[38;5;28;01mraise\u001b[39;00m \u001b[38;5;167;01mPermissionError\u001b[39;00m(\u001b[38;5;124mf\u001b[39m\u001b[38;5;124m\"\u001b[39m\u001b[38;5;132;01m{\u001b[39;00mname\u001b[38;5;132;01m}\u001b[39;00m\u001b[38;5;124m does not have read permissions: \u001b[39m\u001b[38;5;132;01m{\u001b[39;00mfname\u001b[38;5;132;01m}\u001b[39;00m\u001b[38;5;124m\"\u001b[39m)\n\u001b[1;32m    273\u001b[0m \u001b[38;5;28;01melif\u001b[39;00m must_exist:\n\u001b[0;32m--> 274\u001b[0m     \u001b[38;5;28;01mraise\u001b[39;00m \u001b[38;5;167;01mFileNotFoundError\u001b[39;00m(\u001b[38;5;124mf\u001b[39m\u001b[38;5;124m'\u001b[39m\u001b[38;5;132;01m{\u001b[39;00mname\u001b[38;5;132;01m}\u001b[39;00m\u001b[38;5;124m does not exist: \u001b[39m\u001b[38;5;124m\"\u001b[39m\u001b[38;5;132;01m{\u001b[39;00mfname\u001b[38;5;132;01m}\u001b[39;00m\u001b[38;5;124m\"\u001b[39m\u001b[38;5;124m'\u001b[39m)\n\u001b[1;32m    276\u001b[0m \u001b[38;5;28;01mreturn\u001b[39;00m fname\n",
      "\u001b[0;31mFileNotFoundError\u001b[0m: fname does not exist: \"/Users/payamsadeghishabestari/antinomics_clean_codes/subjects/zdfy/EEG/gpias/raw_prep.fif\""
     ]
    }
   ],
   "source": [
    "%matplotlib qt\n",
    "from eeg_erp_processing import run_erp_analysis\n",
    "\n",
    "run_erp_analysis(\n",
    "        subject_id=\"zdfy\",\n",
    "        subjects_dir=\"/Users/payamsadeghishabestari/antinomics_clean_codes/subjects\",\n",
    "        paradigm=\"gpias\",\n",
    "        events=None,\n",
    "        source_analysis=True,\n",
    "        mri=False,\n",
    "        subjects_fs_dir=None,\n",
    "        manual_data_scroll=False,\n",
    "        create_report=True,\n",
    "        saving_dir=None,\n",
    "        verbose=\"ERROR\"\n",
    "        )"
   ]
  },
  {
   "cell_type": "markdown",
   "metadata": {},
   "source": [
    "Eyetracking"
   ]
  },
  {
   "cell_type": "code",
   "execution_count": null,
   "metadata": {},
   "outputs": [],
   "source": [
    "import mne\n",
    "raw = mne.io.read_raw_brainvision(\"/Users/payamsadeghishabestari/antinomics_clean_codes/subjects/zdfy/EEG/xxxxx/zdfy_xxxxx.vhdr\")\n",
    "mne.read_events(raw)"
   ]
  },
  {
   "cell_type": "code",
   "execution_count": null,
   "metadata": {},
   "outputs": [],
   "source": [
    "raw.annotations"
   ]
  },
  {
   "cell_type": "code",
   "execution_count": null,
   "metadata": {},
   "outputs": [],
   "source": [
    "from mne.io import read_raw_brainvision, read_raw_eyelink\n",
    "from mne import events_from_annotations\n",
    "from mne.preprocessing import realign_raw\n",
    "\n",
    "\n",
    "## load\n",
    "fname_eeg = \"/Users/payamsadeghishabestari/Downloads/alertness_01_H036.vhdr\"\n",
    "fname_et = \"/Users/payamsadeghishabestari/Downloads/local_al1H036.asc\"\n",
    "\n",
    "raw_eeg = read_raw_brainvision(fname_eeg, preload=True)\n",
    "raw_eye = read_raw_eyelink(fname=fname_et, create_annotations=True) \n",
    "events_eeg, event_ids_eeg = events_from_annotations(raw_eeg)\n",
    "events_eye, event_ids_eye = events_from_annotations(raw_eye)\n",
    "\n",
    "## for now\n",
    "stim_id_eeg_1, stim_id_eeg_2 = 8, 9\n",
    "stim_id_eye_1, stim_id_eye_2 = 4, 5\n",
    "\n",
    "s_raw = events_eeg[(events_eeg[:,2] == stim_id_eeg_1) | (events_eeg[:,2] == stim_id_eeg_2)][:, 0]\n",
    "s_other = events_eye[(events_eye[:,2] == stim_id_eye_1) | (events_eye[:,2] == stim_id_eye_2)][:, 0]\n",
    "\n",
    "## realigning\n",
    "realign_raw(raw=raw_eeg,\n",
    "            other=raw_eye,\n",
    "            t_raw=s_raw / raw_eeg.info[\"sfreq\"] - raw_eeg.first_time,\n",
    "            t_other=s_other / raw_eye.info[\"sfreq\"] - raw_eye.first_time,\n",
    "            verbose=None)\n",
    "\n",
    "raw_eye.add_channels([raw_eeg], force_update_info=True)\n",
    "events, event_dict = events_from_annotations(raw_eye)\n",
    "del raw_eeg  "
   ]
  },
  {
   "cell_type": "code",
   "execution_count": null,
   "metadata": {},
   "outputs": [],
   "source": [
    "fname_eeg = \"/Users/payamsadeghishabestari/Downloads/alertness_01_H036.vhdr\"\n",
    "fname_et = \"/Users/payamsadeghishabestari/Downloads/local_al1H036.asc\"\n",
    "\n",
    "raw_eeg = read_raw_brainvision(fname_eeg, preload=True)\n",
    "raw_eye = read_raw_eyelink(fname=fname_et, create_annotations=True) "
   ]
  },
  {
   "cell_type": "code",
   "execution_count": null,
   "metadata": {},
   "outputs": [],
   "source": []
  },
  {
   "cell_type": "code",
   "execution_count": null,
   "metadata": {},
   "outputs": [],
   "source": [
    "raw_eye.plot()"
   ]
  },
  {
   "cell_type": "code",
   "execution_count": null,
   "metadata": {},
   "outputs": [],
   "source": []
  },
  {
   "cell_type": "code",
   "execution_count": null,
   "metadata": {},
   "outputs": [],
   "source": [
    "raw_eye.plot()"
   ]
  }
 ],
 "metadata": {
  "kernelspec": {
   "display_name": "Python 3",
   "language": "python",
   "name": "python3"
  },
  "language_info": {
   "codemirror_mode": {
    "name": "ipython",
    "version": 3
   },
   "file_extension": ".py",
   "mimetype": "text/x-python",
   "name": "python",
   "nbconvert_exporter": "python",
   "pygments_lexer": "ipython3",
   "version": "3.10.9"
  }
 },
 "nbformat": 4,
 "nbformat_minor": 2
}
